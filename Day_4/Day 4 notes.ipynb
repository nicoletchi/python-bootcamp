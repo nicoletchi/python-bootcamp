{
 "cells": [
  {
   "cell_type": "markdown",
   "metadata": {},
   "source": [
    "# initializing lists"
   ]
  },
  {
   "cell_type": "code",
   "execution_count": 8,
   "metadata": {},
   "outputs": [
    {
     "name": "stdout",
     "output_type": "stream",
     "text": [
      "golden bears\n",
      "nachos\n",
      "7\n",
      "17.7\n",
      "['golden bears', 'nachos', 7, 17.7] <class 'list'>\n",
      "['1', 'fret', 90.0] <class 'list'>\n",
      "nachos\n",
      "nachos\n"
     ]
    }
   ],
   "source": [
    "awesome = ['golden bears', 'nachos', 7, 17.7]\n",
    "awesome_1 = [awesome, ['1', 'fret', 90.0]] #lists can have lists inside them\n",
    "awesome2 = [['golden bears', 'nachos'], [7,17.7]]\n",
    "\n",
    "for index in range(len(awesome)):\n",
    "    print(awesome[index])\n",
    "\n",
    "for item in awesome_1:\n",
    "    print(item, type(item))\n",
    "\n",
    "print(awesome2[0][1]) \n",
    "\"\"\"to print nachos, 0 refers to the first item (a list) in awesome2, \n",
    "and 1 refers to the second item in that list\"\"\"\n",
    "\n",
    "for index in range(len(awesome)):\n",
    "    if awesome[index] == 'nachos':\n",
    "        print(awesome[index])\n",
    "\"\"\"alternative way of doing the above\"\"\""
   ]
  },
  {
   "cell_type": "markdown",
   "metadata": {},
   "source": [
    "# adding & removing things in lists"
   ]
  },
  {
   "cell_type": "code",
   "execution_count": 35,
   "metadata": {},
   "outputs": [
    {
     "name": "stdout",
     "output_type": "stream",
     "text": [
      "['replace oski', 3.14, 'fred']\n",
      "[3, 4, 5, 7, 8, 9]\n",
      "My new list looks like [3, 4, 5, 7, 8, 9] and its length is 6 and alist looks like [3, 4, 5]\n",
      "We can also concat two lists like this: [[3, 4, 5], [7, 8, 9, 3, 4, 5], 'cool']\n",
      "[[3, 4, 5], [7, 8, 9, 3, 4, 5]]\n",
      "[[3, 4, 5]]\n",
      "[3.14, 'fred']\n",
      "replace oski\n"
     ]
    }
   ],
   "source": [
    "awesome = ['oski', 3.14, 'fred']\n",
    "awesome[0] = 'replace oski' #permanently replaces item in list. \n",
    "print(awesome)\n",
    "\n",
    "alist = [3, 4, 5]\n",
    "blist = [7, 8, 9]\n",
    "new_list = alist + blist #creates 1 big list, not a tuple of 2 little lists\n",
    "print(new_list)\n",
    "print('My new list looks like {0} and its length is {1} and alist looks like {2}'.\\\n",
    "      format(new_list, len(new_list), alist)) #these variables slot into curly brackets\n",
    "#backslash means the code continues in next line (when it's too long to fit on one line)\n",
    "\n",
    "another_list = [alist, blist + alist, \"cool\"]\n",
    "print('We can also concat two lists like this: {0}'.\\\n",
    "     format(another_list))\n",
    "\n",
    "another_list.remove(\"cool\") #if you know what you want to remove\n",
    "print(another_list)\n",
    "another_list.pop(1) #if you don't know what's in your list and want to remove something\n",
    "print(another_list)\n",
    "\n",
    "not_needed_item = awesome.pop(0)\n",
    "print(awesome)\n",
    "print(not_needed_item)"
   ]
  },
  {
   "cell_type": "markdown",
   "metadata": {},
   "source": [
    "# sorting lists"
   ]
  },
  {
   "cell_type": "code",
   "execution_count": 39,
   "metadata": {},
   "outputs": [
    {
     "name": "stdout",
     "output_type": "stream",
     "text": [
      "['cool', 'new', 'shoes']\n",
      "['shoes', 'new', 'cool']\n"
     ]
    }
   ],
   "source": [
    "alist =['cool', 'shoes', 'new']\n",
    "alist.sort()\n",
    "print(alist)\n",
    "\n",
    "print(alist[::-1])"
   ]
  },
  {
   "cell_type": "markdown",
   "metadata": {},
   "source": [
    "# splitting lists"
   ]
  },
  {
   "cell_type": "code",
   "execution_count": 49,
   "metadata": {},
   "outputs": [
    {
     "name": "stdout",
     "output_type": "stream",
     "text": [
      "['She', 'sells', 'seashells', 'by', 'the', 'seashore']\n",
      "['Stuff', ' with semicolons', ' blah blah blah']\n"
     ]
    },
    {
     "data": {
      "text/plain": [
       "'Stuff... with semicolons... blah blah blah'"
      ]
     },
     "execution_count": 49,
     "metadata": {},
     "output_type": "execute_result"
    }
   ],
   "source": [
    "phrase = 'She sells seashells by the seashore'\n",
    "word_list = phrase.split()\n",
    "print(word_list)\n",
    "\n",
    "phrase2 = 'Stuff; with semicolons; blah blah blah'\n",
    "word_list2 = phrase2.split(';')\n",
    "print(word_list2)\n",
    "\n",
    "' '.join(word_list) #you can also add things back with this\n",
    "'...'.join(word_list2) #or add random stuff to it"
   ]
  },
  {
   "cell_type": "markdown",
   "metadata": {},
   "source": [
    "# copy, deepcopy, and pass by assignment"
   ]
  },
  {
   "cell_type": "code",
   "execution_count": 1,
   "metadata": {},
   "outputs": [
    {
     "name": "stdout",
     "output_type": "stream",
     "text": [
      "\n",
      "blist now is: [[3, 4, 5], ['cool', 'new', 'thing'], 'meh']\n",
      "I changed alist to [[3, 4, 5], 'hello', 'meh'] and blist now looks like [[3, 4, 5], ['cool', 'new', 'thing'], 'meh']\n",
      "\n"
     ]
    }
   ],
   "source": [
    "import copy\n",
    "\n",
    "# alist = [3, 4, 5]\n",
    "# blist = alist\n",
    "# clist = copy.deepcopy(alist) #deepcopy\n",
    "# print('blist now is: {0}'.format(blist))\n",
    "# alist[1] = \"hello\"\n",
    "# print(\"I changed alist to {0} and blist now looks like {1}\".\\\n",
    "#      format(alist, blist))\n",
    "# print(\"I changed alist to {0} and blist now looks like {1}\".\\\n",
    "#      format(alist, clist))\n",
    "\n",
    "print()\n",
    "\n",
    "alist = [[3, 4, 5], [\"cool\", \"new\", \"thing\"], \"meh\"]\n",
    "blist = copy.copy(alist)\n",
    "print('blist now is: {0}'.format(blist))\n",
    "alist[1] = \"hello\"\n",
    "print(\"I changed alist to {0} and blist now looks like {1}\".\\\n",
    "     format(alist, blist))\n",
    "# print(\"I changed alist to {0} and blist now looks like {1}\".\\\n",
    "#      format(alist, clist))\n",
    "\n",
    "print()\n",
    "\n",
    "# alist = [3, 4, 5]\n",
    "# shallowcopy = copy.copy(alist)\n",
    "# alist = alist + [6]\n",
    "# print(alist)\n",
    "# print(shallowcopy)\n",
    "# #both of these things are shallow copies, which means one references the other\n",
    "\n",
    "# deepcopy = copy.deepcopy(alist) \n",
    "#deep copy. when you change something in the original, it won't change the copy\n",
    "\n"
   ]
  },
  {
   "cell_type": "code",
   "execution_count": 16,
   "metadata": {},
   "outputs": [
    {
     "name": "stdout",
     "output_type": "stream",
     "text": [
      "[2, 3, 4]\n"
     ]
    }
   ],
   "source": [
    "def chop(list):\n",
    "    list.pop(0)\n",
    "    list.pop(len(list)-1)\n",
    "    return None\n",
    "\n",
    "list = [1, 2, 3, 4, 5]\n",
    "chop(list)\n",
    "print(list)"
   ]
  },
  {
   "cell_type": "markdown",
   "metadata": {},
   "source": [
    "# Tuples!"
   ]
  },
  {
   "cell_type": "code",
   "execution_count": 23,
   "metadata": {},
   "outputs": [
    {
     "name": "stdout",
     "output_type": "stream",
     "text": [
      "Monty Python\n",
      "1\n",
      "2\n",
      "(1, 2, 3)\n"
     ]
    }
   ],
   "source": [
    "def f():\n",
    "    return 'Monty', 'Python'\n",
    "x, y = f() #if you know f() is a tuple\n",
    "print (x, y)\n",
    "\n",
    "t = 1, 2, 3 #this is a tuple\n",
    "a, b, c = t #you can unpack a tuple\n",
    "a, b, c = 1, 2, 3 #this is a more pythonic way of combining the two lines above\n",
    "\n",
    "print(a) #and then print one element of the tuple\n",
    "print(t[1]) #or print one element this way\n",
    "print(t) #or print the tuple"
   ]
  },
  {
   "cell_type": "code",
   "execution_count": 27,
   "metadata": {},
   "outputs": [
    {
     "name": "stdout",
     "output_type": "stream",
     "text": [
      "(['hello', 2, 3], 5, 6)\n"
     ]
    }
   ],
   "source": [
    "a = [1, 2, 3]\n",
    "t = a, 5, 6\n",
    "a[0] = \"hello\"\n",
    "print(t)"
   ]
  },
  {
   "cell_type": "code",
   "execution_count": 29,
   "metadata": {},
   "outputs": [
    {
     "data": {
      "text/plain": [
       "'Monty'"
      ]
     },
     "execution_count": 29,
     "metadata": {},
     "output_type": "execute_result"
    }
   ],
   "source": [
    "def fun1():\n",
    "    return 'Monty', 'Python'\n",
    "first, last = fun1()\n",
    "first"
   ]
  },
  {
   "cell_type": "code",
   "execution_count": 93,
   "metadata": {},
   "outputs": [
    {
     "name": "stdout",
     "output_type": "stream",
     "text": [
      "['Prakhar prakharchandna', 'Tiffany nameistiffyp', 'Mandy mleung32', 'Akshara akshara08', 'Nicole nicoletchi', 'Manasi manasi1994', 'Ramya Ramya0694', 'Max maxmir20', 'Brinda brinsga', 'Yin qyinhelena', 'Min Hyung chung-grace', 'Arika ArikaVerma', 'Esther estherjan', 'Nitin NiStannum', 'Joanne joannejia17']\n",
      "\n",
      "[['Prakhar', 'prakharchandna'], ['Tiffany', 'nameistiffyp'], ['Mandy', 'mleung32'], ['Akshara', 'akshara08'], ['Nicole', 'nicoletchi'], ['Manasi', 'manasi1994'], ['Ramya', 'Ramya0694'], ['Max', 'maxmir20'], ['Brinda', 'brinsga'], ['Yin', 'qyinhelena'], ['Min', 'Hyung', 'chung-grace'], ['Arika', 'ArikaVerma'], ['Esther', 'estherjan'], ['Nitin', 'NiStannum'], ['Joanne', 'joannejia17']]\n",
      "\n",
      "['Tiffany', 'Prakhar', 'Akshara', 'Nicole', 'Manasi', 'Joanne', 'Esther', 'Brinda', 'Ramya', 'Nitin', 'Mandy', 'Arika', 'Yin', 'Min', 'Max']\n"
     ]
    }
   ],
   "source": [
    "import os\n",
    "\n",
    "f = open('roster.txt', 'r')\n",
    "\n",
    "def exercise2():\n",
    "    list1 = [] #list\n",
    "    list2 = [] #list of lists\n",
    "    list3 = [] #list of firstnames\n",
    "    \n",
    "    \n",
    "    for line in f: # list of first and GitHub usernames, list of lists of first and username\n",
    "        line = line.strip()\n",
    "        list1.append(line)\n",
    "        list2.append(line.split())\n",
    "    \n",
    "    newlist=[]\n",
    "    firstnames=[]\n",
    "    for i in range(len(list2)): \n",
    "        user = list2[i]\n",
    "        length = len(user[0]) #getting length of firstname\n",
    "        newlist.append((length,user[0])) #creating list of tuples with (length of firstname, firstname)\n",
    "    \n",
    "    newlist = sorted(newlist, reverse=True) #sorting list of firstnames\n",
    "    \n",
    "    for i in range(len(newlist)): #creating list of sorted firstnames\n",
    "        user = newlist[i]\n",
    "        list3.append(user[1]) #just printing firstname\n",
    "    \n",
    "    print(list1)\n",
    "    print()\n",
    "    print(list2)\n",
    "    print()\n",
    "    print(list3)\n",
    "    \n",
    "        \n",
    "exercise2()\n",
    "        "
   ]
  },
  {
   "cell_type": "markdown",
   "metadata": {},
   "source": [
    "Note: The above would be easier to read by splitting into multiple functions"
   ]
  },
  {
   "cell_type": "code",
   "execution_count": null,
   "metadata": {},
   "outputs": [],
   "source": []
  }
 ],
 "metadata": {
  "kernelspec": {
   "display_name": "Python 3",
   "language": "python",
   "name": "python3"
  },
  "language_info": {
   "codemirror_mode": {
    "name": "ipython",
    "version": 3
   },
   "file_extension": ".py",
   "mimetype": "text/x-python",
   "name": "python",
   "nbconvert_exporter": "python",
   "pygments_lexer": "ipython3",
   "version": "3.7.4"
  }
 },
 "nbformat": 4,
 "nbformat_minor": 2
}
