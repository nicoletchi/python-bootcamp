{
 "cells": [
  {
   "cell_type": "markdown",
   "metadata": {},
   "source": [
    "# HW04_ch09_ex02\n",
    "\n",
    "### (1) has_no_e\n",
    "\n",
    "Write a function called has_no_e that returns True if the given word doesn't have the letter \"e\" in it."
   ]
  },
  {
   "cell_type": "code",
   "execution_count": 11,
   "metadata": {},
   "outputs": [
    {
     "name": "stdout",
     "output_type": "stream",
     "text": [
      "True\n",
      "False\n"
     ]
    }
   ],
   "source": [
    "def has_no_e(word):\n",
    "    for i in range(len(word)):\n",
    "        if word[i] == 'e':\n",
    "            return False\n",
    "    return True\n",
    "\n",
    "print(has_no_e('avocado'))\n",
    "print(has_no_e('cheese'))"
   ]
  },
  {
   "cell_type": "markdown",
   "metadata": {},
   "source": [
    "### (2) print_no_e\n",
    "\n",
    "Modify your program from 9.1 to print only the words that have no \"e\" and compute the percentage of the words in the list that have no \"e\".\n",
    "\n",
    "Print each approved word on new line, followed at the end by the %"
   ]
  },
  {
   "cell_type": "code",
   "execution_count": 12,
   "metadata": {},
   "outputs": [
    {
     "name": "stdout",
     "output_type": "stream",
     "text": [
      "avocado\n",
      "bun\n",
      "50.0%\n"
     ]
    }
   ],
   "source": [
    "import os\n",
    "f = open('words.txt', 'r')\n",
    "randomlist = ['avocado', 'cheese', 'pickle', 'bun']\n",
    "\n",
    "def print_no_e(alist):\n",
    "    count_no_e = 0\n",
    "    \n",
    "    for i in alist:\n",
    "        if has_no_e(i) == True:\n",
    "            print(i)\n",
    "            count_no_e = count_no_e + 1\n",
    "    \n",
    "    print(str(count_no_e/len(alist)*100)+\"%\")\n",
    "\n",
    "print_no_e(randomlist)\n",
    "    "
   ]
  },
  {
   "cell_type": "markdown",
   "metadata": {},
   "source": [
    "# HW04_ch09_ex03\n",
    "\n",
    "### (1) avoids\n",
    "\n",
    "Write a function named avoids that takes a word and a string of forbidden letters, and that returns True if the word doesn't use any of the forbidden letters.\n",
    "   - write avoids"
   ]
  },
  {
   "cell_type": "code",
   "execution_count": 13,
   "metadata": {},
   "outputs": [
    {
     "name": "stdout",
     "output_type": "stream",
     "text": [
      "False\n",
      "True\n"
     ]
    }
   ],
   "source": [
    "aword = 'ballistic'\n",
    "forbidden1 = 'abc'\n",
    "forbidden2 = 'qwz'\n",
    "\n",
    "def avoids(word, forbiddenletters):\n",
    "    for i in aword:\n",
    "        for n in forbiddenletters:\n",
    "            if i == n:\n",
    "                return False\n",
    "    return True\n",
    "\n",
    "print(avoids(aword, forbidden1))\n",
    "print(avoids(aword, forbidden2))"
   ]
  },
  {
   "cell_type": "markdown",
   "metadata": {},
   "source": [
    "### (2) forbidden_prompt and forbidden_param\n",
    "\n",
    "Modify your program to prompt the user to enter a string of forbidden letters and then print the number of words that don't contain any of them.\n",
    "   - write forbidden_prompt and\n",
    "   - modify to create forbidden_param that accepts the string as an argument"
   ]
  },
  {
   "cell_type": "code",
   "execution_count": 7,
   "metadata": {},
   "outputs": [
    {
     "name": "stdout",
     "output_type": "stream",
     "text": [
      "bacon\n",
      "and\n",
      "2\n",
      "Enter string of forbidden letters: ghr\n",
      "2\n"
     ]
    }
   ],
   "source": [
    "blist = ['bacon', 'egg', 'cheese', 'and', 'bread']\n",
    "\n",
    "def forbidden_prompt(alist):\n",
    "    input1 = input(\"Enter string of forbidden letters: \")\n",
    "    count = 0\n",
    "    \n",
    "    for i in input1: #making sure it is a string of letters\n",
    "        if i.isdigit() == True:\n",
    "            print(\"Only letters, please!\")\n",
    "            forbidden_prompt(alist)\n",
    "\n",
    "    for word in alist:\n",
    "        check =  any(item in input1 for item in word)\n",
    "        if check != True:\n",
    "            count = count+1\n",
    "    print(count)\n",
    "\n",
    "def forbidden_param0(astring,alist): #returns number of words that AREN'T excluded\n",
    "    count = 0\n",
    "    \n",
    "    for i in astring: #making sure it is a string of letters\n",
    "        if i.isdigit() == True:\n",
    "            print(\"Only letters, please!\")\n",
    "            forbidden_param0(astring,alist)\n",
    "\n",
    "    for word in alist:\n",
    "        check =  any(item in astring for item in word)\n",
    "        if check != True:\n",
    "            print(word)\n",
    "            count = count+1\n",
    "    \n",
    "    return count\n",
    "\n",
    "\"\"\"go through each word in the list\n",
    "then go through each letter in the word\n",
    "if the letter is in the list of forbidden letters\n",
    "\"\"\"\n",
    "                \n",
    "def main():\n",
    "    print(forbidden_param0('ghr', blist))\n",
    "    forbidden_prompt(blist)\n",
    "    \n",
    "main()\n",
    "    \n",
    "        "
   ]
  },
  {
   "cell_type": "markdown",
   "metadata": {},
   "source": [
    "### (3) Can you find a combination of 5 forbidden letters that excludes the smallest number of words?\n",
    "   - write a function that finds this combination of letters: find_five\n",
    "   - have that function print the letters and print the # of words excluded\n",
    "   \n",
    "# notes:\n",
    "**It was hard managing words.txt. For some reason, I had to do f = open('words.txt', 'r') and then read each line into a separate list (flist) in order for this function to work. Why?**"
   ]
  },
  {
   "cell_type": "code",
   "execution_count": 10,
   "metadata": {},
   "outputs": [
    {
     "name": "stdout",
     "output_type": "stream",
     "text": [
      "2691\n",
      "3\n"
     ]
    }
   ],
   "source": [
    "import os\n",
    "import itertools\n",
    "from itertools import combinations \n",
    "f = open('words.txt', 'r')\n",
    "blist = ['bacon', 'egg', 'cheese', 'and', 'bread']\n",
    "\n",
    "def forbidden_param(astring,alist): \n",
    "    \"\"\"returns number of EXCLUSIONS\"\"\"\n",
    "    count = 0\n",
    "    for i in astring: #making sure it is a string of letters\n",
    "        if i.isdigit() == True:\n",
    "            print(\"Only letters, please!\")\n",
    "            forbidden_prompt(astring)\n",
    "\n",
    "    for word in alist:\n",
    "        check =  any(item in astring for item in word)\n",
    "        if check == True:\n",
    "            count = count+1\n",
    "    return(count)\n",
    "\n",
    "print(forbidden_param('xxxxx', f))\n",
    "print(forbidden_param('ghr', blist))"
   ]
  },
  {
   "cell_type": "code",
   "execution_count": 39,
   "metadata": {},
   "outputs": [
    {
     "data": {
      "text/plain": [
       "'qjxzwvkfyb'"
      ]
     },
     "execution_count": 39,
     "metadata": {},
     "output_type": "execute_result"
    }
   ],
   "source": [
    "def smallest_5():\n",
    "    \"\"\"This function looks for the 5 letters that exclude the least number of words.\n",
    "    The sum of their exclusions becomes the upper limit.\n",
    "    It then excludes any letter that has a greater number of exclusions than\n",
    "    the upper limit, and then returns all the remaining letters in a string\"\"\"\n",
    "\n",
    "    f = open('words.txt', 'r')\n",
    "    listf = []\n",
    "    listExclusions = []\n",
    "    sum5 = 0\n",
    "    acceptableLetters = []\n",
    "    letterString = ''\n",
    "    \n",
    "    for i in f:\n",
    "        listf.append(i)\n",
    "    count = 0\n",
    "    \n",
    "    for letter in 'abcdefghijklmnopqrstuvwxyz':\n",
    "        listExclusions.append((forbidden_param(letter, listf), letter))\n",
    "\n",
    "    listExclusions.sort() #sort letters smallest to largest by # exclusions\n",
    "\n",
    "    sum5 = listExclusions[0][0] + listExclusions[1][0] + listExclusions[2][0] \\\n",
    "            + listExclusions[3][0] + listExclusions[4][0]\n",
    "    \n",
    "    for i in range(0, 26):\n",
    "        if listExclusions[i][0] < sum5:\n",
    "            acceptableLetters.append(listExclusions[i][1])\n",
    "    \n",
    "    return letterString.join(acceptableLetters)\n",
    "\n",
    "smallest_5()"
   ]
  },
  {
   "cell_type": "code",
   "execution_count": 15,
   "metadata": {},
   "outputs": [
    {
     "name": "stdout",
     "output_type": "stream",
     "text": [
      "the combination that excludes the least words is qjxzw\n",
      "the number of excluded words is 17384\n"
     ]
    }
   ],
   "source": [
    "import os\n",
    "import itertools\n",
    "from itertools import combinations\n",
    "\n",
    "def find_five():\n",
    "    f = open('words.txt', 'r')\n",
    "    count = 0\n",
    "    listStrings = []\n",
    "    listf = []\n",
    "    minCombo = ''\n",
    "    \n",
    "    for i in f:\n",
    "        listf.append(i)\n",
    "        count = count+1\n",
    "    \n",
    "    listTuples = itertools.combinations(smallest_5(), 5) \n",
    "    for i in listTuples:\n",
    "        \"\"\"creating combinations and turning it into a list of strings\"\"\"\n",
    "        newstring = ''.join(i) #turning tuple into string\n",
    "        listStrings.append(newstring)\n",
    "    \n",
    "    for combo in listStrings: \n",
    "        if forbidden_param(combo, listf) < count:\n",
    "            count = forbidden_param(combo, listf)\n",
    "            minCombo = combo\n",
    "\n",
    "    print(\"the combination that excludes the least words is \"+minCombo)\n",
    "    print(\"the number of excluded words is \" + str(forbidden_param(minCombo, listf)))\n",
    "\n",
    "find_five()"
   ]
  },
  {
   "cell_type": "markdown",
   "metadata": {},
   "source": [
    "# HW04_ch09_ex04\n",
    "\n",
    "### (1) Write a function named uses_only that takes a word and a string of letters, and that returns True if the word contains only letters in the list.\n",
    "   - write uses_only"
   ]
  },
  {
   "cell_type": "code",
   "execution_count": 16,
   "metadata": {},
   "outputs": [
    {
     "name": "stdout",
     "output_type": "stream",
     "text": [
      "False\n",
      "True\n"
     ]
    }
   ],
   "source": [
    "def uses_only(aword, letters):\n",
    "    \"\"\"For every letter in word, this function checks \n",
    "    if they are all in the string of letters\"\"\"\n",
    "    \n",
    "    if all(i in letters for i in aword):\n",
    "        return True\n",
    "    else:\n",
    "        return False\n",
    "\n",
    "print(uses_only('potato', 'oat'))\n",
    "print(uses_only('potato', 'aotp'))\n",
    "\n",
    "    \n",
    "    "
   ]
  },
  {
   "cell_type": "markdown",
   "metadata": {},
   "source": [
    "### (2)  Can you make a sentence using only the letters acefhlo? Other than \"Hoe alfalfa?\"\n",
    "   - write function to assist you\n",
    "   - manually type favorite sentence(s) here:  \n",
    "       1: ooh hallo elf fella\n",
    "       2: ahchoo local face fleece \n",
    "       3: half off alfalfa, cacao, coffee, loaf of challah!"
   ]
  },
  {
   "cell_type": "code",
   "execution_count": 25,
   "metadata": {},
   "outputs": [
    {
     "name": "stdout",
     "output_type": "stream",
     "text": [
      "['aa', 'aah', 'aal', 'ace', 'ache', 'achoo', 'ae', 'aff', 'ah', 'aha', 'ahchoo', 'ala', 'alae', 'alcohol', 'ale', 'alec', 'alee', 'alef', 'alfa', 'alfalfa', 'all', 'allele', 'allheal', 'aloe', 'aloha', 'aloof', 'cacao', 'cache', 'caeca', 'caecal', 'cafe', 'caleche', 'calf', 'call', 'calla', 'ceca', 'cecal', 'cee', 'cell', 'cella', 'cellae', 'cello', 'chafe', 'chaff', 'chalah', 'chaleh', 'challah', 'chef', 'chela', 'chelae', 'cholla', 'clach', 'clef', 'cloaca', 'cloacae', 'cloacal', 'cloche', 'coach', 'coal', 'coala', 'coalhole', 'coca', 'coccal', 'cochlea', 'cochleae', 'coco', 'cocoa', 'coff', 'coffee', 'coffle', 'coho', 'col', 'cola', 'cole', 'coo', 'cooch', 'cooee', 'coof', 'cool', 'each', 'eche', 'echo', 'ecole', 'eel', 'ef', 'eff', 'efface', 'eh', 'el', 'elf', 'ell', 'fa', 'face', 'faecal', 'fall', 'fallal', 'falloff', 'feal', 'fecal', 'fee', 'feel', 'fell', 'fella', 'fellah', 'felloe', 'feoff', 'feoffee', 'flea', 'fleche', 'flee', 'fleece', 'fleech', 'floc', 'floe', 'foal', 'focal', 'foe', 'foh', 'fool', 'ha', 'haaf', 'hae', 'hah', 'halala', 'halalah', 'hale', 'half', 'hall', 'hallah', 'hallel', 'hallo', 'halloa', 'halloo', 'halo', 'haole', 'he', 'heal', 'heel', 'hell', 'hellhole', 'hello', 'ho', 'hoe', 'hole', 'holla', 'hollo', 'holloa', 'holloo', 'hooch', 'hoof', 'la', 'lac', 'lace', 'lall', 'lea', 'leach', 'leaf', 'leal', 'lech', 'lee', 'leech', 'lo', 'loach', 'loaf', 'loca', 'local', 'locale', 'loch', 'loco', 'locofoco', 'loll', 'loo', 'loof', 'loofa', 'loofah', 'oaf', 'oca', 'oe', 'of', 'off', 'offal', 'oh', 'oho', 'ole', 'olea', 'oleo', 'olla', 'ooh']\n"
     ]
    }
   ],
   "source": [
    "def words_acefhlo():\n",
    "    f = open('words.txt', 'r')\n",
    "    sentence = ''\n",
    "    words = []\n",
    "    \n",
    "    for line in f:\n",
    "        aword = str(line.strip())\n",
    "        if uses_only(aword, 'acefhlo'):\n",
    "            words.append(aword)\n",
    "    print(words)\n",
    "\n",
    "words_acefhlo()\n"
   ]
  },
  {
   "cell_type": "markdown",
   "metadata": {},
   "source": [
    "# HW04_ch09_ex05\n",
    "\n",
    "### (1)  Write a function named uses_all that takes a word and a string of required letters, and that returns True if the word uses all the required letters at least once.\n",
    "   - write uses_all"
   ]
  },
  {
   "cell_type": "code",
   "execution_count": 28,
   "metadata": {},
   "outputs": [
    {
     "name": "stdout",
     "output_type": "stream",
     "text": [
      "True\n",
      "False\n"
     ]
    }
   ],
   "source": [
    "def uses(word, letters): #word is list and letters is sublist\n",
    "    \"\"\"For every letter in letters, this function checks if they are all in the word\"\"\"\n",
    "    if all(i in word for i in letters):\n",
    "        return True\n",
    "    else:\n",
    "        return False\n",
    "\n",
    "\n",
    "print(uses('violin', 'vln'))\n",
    "print(uses('violin', 'vxy'))"
   ]
  },
  {
   "cell_type": "markdown",
   "metadata": {},
   "source": [
    "### (2) How many words are there that use all the vowels aeiou? How about aeiouy?\n",
    "   - write functions(s) to assist you\n",
    "   - of words that use all aeiou: words_aeiou\n",
    "   - of words that use all aeiouy: words_aeiouy"
   ]
  },
  {
   "cell_type": "code",
   "execution_count": 29,
   "metadata": {},
   "outputs": [
    {
     "data": {
      "text/plain": [
       "598"
      ]
     },
     "execution_count": 29,
     "metadata": {},
     "output_type": "execute_result"
    }
   ],
   "source": [
    "def words_aeiou():\n",
    "    f = open('words.txt', 'r')\n",
    "    count = 0\n",
    "    \n",
    "    for line in f:\n",
    "        if uses(line, 'aeiou'):\n",
    "            count = count+1\n",
    "    \n",
    "    return(count)\n",
    "        \n",
    "words_aeiou()\n",
    "    \n",
    "    "
   ]
  },
  {
   "cell_type": "code",
   "execution_count": 30,
   "metadata": {},
   "outputs": [
    {
     "data": {
      "text/plain": [
       "42"
      ]
     },
     "execution_count": 30,
     "metadata": {},
     "output_type": "execute_result"
    }
   ],
   "source": [
    "def words_aeiouy():\n",
    "    f = open('words.txt', 'r')\n",
    "    count = 0\n",
    "    \n",
    "    for line in f:\n",
    "        if uses(line, 'aeiouy'):\n",
    "            count = count+1\n",
    "    \n",
    "    f.close()\n",
    "    return(count)\n",
    "        \n",
    "words_aeiouy()"
   ]
  },
  {
   "cell_type": "markdown",
   "metadata": {},
   "source": [
    "# HW04_ch09_ex06\n",
    "\n",
    "### (1) Write a function called is_abecedarian that returns True if the letters in a word appear in alphabetical order (double letters are ok).\n",
    "   - write is_abecedarian"
   ]
  },
  {
   "cell_type": "code",
   "execution_count": 32,
   "metadata": {},
   "outputs": [
    {
     "name": "stdout",
     "output_type": "stream",
     "text": [
      "True\n",
      "False\n"
     ]
    }
   ],
   "source": [
    "def is_abecedarian(word):\n",
    "    return word == \"\".join(sorted(word)) \n",
    "#need the .join because sorted returns a list of letters\n",
    "\n",
    "print(is_abecedarian('loops'))\n",
    "print(is_abecedarian('apple'))"
   ]
  },
  {
   "cell_type": "markdown",
   "metadata": {},
   "source": [
    "### (2) How many abecedarian words are there in roster.txt?\n",
    "   - write additional function(s) to assist you\n",
    "   - number of abecedarian words:\n",
    "   \n",
    "# Notes:\n",
    "**Wasn't sure how this function worked. How do you use ```with...as fin```?**"
   ]
  },
  {
   "cell_type": "code",
   "execution_count": 37,
   "metadata": {},
   "outputs": [
    {
     "data": {
      "text/plain": [
       "0"
      ]
     },
     "execution_count": 37,
     "metadata": {},
     "output_type": "execute_result"
    }
   ],
   "source": [
    "def how_many_abecedarian():\n",
    "    with open(\"roster.txt\", \"r\") as fin: #how do you use with...as fin?\n",
    "        words = [word.strip() for word in fin.readlines()] #why do you need fin.readlines()\n",
    "    return sum([is_abecedarian(word) for word in words]) #sum adds up all the True's\n",
    "\n",
    "how_many_abecedarian()"
   ]
  },
  {
   "cell_type": "markdown",
   "metadata": {},
   "source": [
    "# HW04_ch10_ex01\n",
    "I want to be able to call nested_sum from main w/ various nested lists and I greatly desire that the function returns the sum.\n",
    "- Example of nested list: [1, 2, [3]]\n",
    "\n",
    "I will be calling things like this: nested_sum([[1, 2], [3], [4, 5, 6]])\n",
    "I will be expected that to return, in this case, 21\n",
    "\n",
    "Verify you've tested w/ various nestings (perhaps by writing a test function like in the string exercises from Google (string1.py and string2.py))\n",
    "\n",
    "In your final submission:\n",
    "  - Do not print anything extraneous.\n",
    "  - Do not put anything but pass in main()"
   ]
  },
  {
   "cell_type": "code",
   "execution_count": 36,
   "metadata": {},
   "outputs": [
    {
     "name": "stdout",
     "output_type": "stream",
     "text": [
      "21\n",
      "6\n",
      "28\n"
     ]
    }
   ],
   "source": [
    "def nested_sum(nestedlist):\n",
    "    \"\"\"if the element is a list, we run the list recursively thru nested_sum.\n",
    "    if the element is a number, we add it to the sum.\"\"\"\n",
    "    \n",
    "    total = 0\n",
    "    \n",
    "    for i in nestedlist:\n",
    "        if type(i) == list:\n",
    "            total = nested_sum(i) + total\n",
    "            \n",
    "        else:\n",
    "            total = total+i\n",
    "    return total\n",
    "\n",
    "alist = [[1, 2], [3], [4, 5, [6]]]\n",
    "blist = [1,2,[3]]\n",
    "clist = [[1, [2, 3]], [4], [5, 6, [7]]]\n",
    "\n",
    "def main():\n",
    "    print(nested_sum(alist))\n",
    "    print(nested_sum(blist))\n",
    "    print(nested_sum(clist))\n",
    "    \n",
    "main()"
   ]
  },
  {
   "cell_type": "code",
   "execution_count": null,
   "metadata": {},
   "outputs": [],
   "source": []
  }
 ],
 "metadata": {
  "kernelspec": {
   "display_name": "Python 3",
   "language": "python",
   "name": "python3"
  },
  "language_info": {
   "codemirror_mode": {
    "name": "ipython",
    "version": 3
   },
   "file_extension": ".py",
   "mimetype": "text/x-python",
   "name": "python",
   "nbconvert_exporter": "python",
   "pygments_lexer": "ipython3",
   "version": "3.7.4"
  }
 },
 "nbformat": 4,
 "nbformat_minor": 2
}
