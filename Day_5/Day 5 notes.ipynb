{
 "cells": [
  {
   "cell_type": "markdown",
   "metadata": {},
   "source": [
    "### Preferred way of opening files"
   ]
  },
  {
   "cell_type": "code",
   "execution_count": 5,
   "metadata": {},
   "outputs": [
    {
     "name": "stdout",
     "output_type": "stream",
     "text": [
      "<class 'list'>\n",
      "academy\n",
      "\n",
      "113809\n"
     ]
    },
    {
     "data": {
      "text/plain": [
       "'opens word.txt into variable fhandle\\n-- same as fhandle = open(words.txt)\\n\\nlines is a list containing each line of fhandle/words.txt'"
      ]
     },
     "execution_count": 5,
     "metadata": {},
     "output_type": "execute_result"
    }
   ],
   "source": [
    "with open('../Day_4/words.txt') as fhandle: \n",
    "    lines = fhandle.readlines()\n",
    "\n",
    "print(type(lines))\n",
    "print(lines[500])\n",
    "print(len(lines))\n",
    "\n",
    "\"\"\"opens word.txt into variable fhandle\n",
    "-- same as fhandle = open(words.txt)\n",
    "\n",
    "lines is a list containing each line of fhandle/words.txt\"\"\""
   ]
  },
  {
   "cell_type": "markdown",
   "metadata": {},
   "source": [
    "- How do we know the name of the file opened?\n",
    "    - `file_handle.name`\n",
    "- How do we know if the file is open or closed?\n",
    "    - `file_handle.closed`\n",
    "- `.extend` v. `.append`?  Can single element with append, can add a list with extend"
   ]
  },
  {
   "cell_type": "code",
   "execution_count": 7,
   "metadata": {},
   "outputs": [
    {
     "name": "stdout",
     "output_type": "stream",
     "text": [
      "[1, 2, 3, 4, 5, [6, 7], 8, 9]\n"
     ]
    }
   ],
   "source": [
    "alist = [1, 2, 3, 4]\n",
    "alist.append(5)\n",
    "alist.append([6, 7])\n",
    "alist.extend([8,9])\n",
    "\n",
    "print(alist)"
   ]
  },
  {
   "cell_type": "markdown",
   "metadata": {},
   "source": [
    "### .isinstance()\n",
    "\n",
    "Can use it when you're trying to make sure input is something"
   ]
  },
  {
   "cell_type": "code",
   "execution_count": 11,
   "metadata": {},
   "outputs": [
    {
     "name": "stdout",
     "output_type": "stream",
     "text": [
      "True\n",
      "False\n",
      "True\n",
      "False\n",
      "True\n"
     ]
    }
   ],
   "source": [
    "print(isinstance(\"a\", str))\n",
    "print(isinstance(1, str))\n",
    "print(isinstance(1, int))\n",
    "print(isinstance(1, float))\n",
    "print(isinstance([1, 1, 1], list))"
   ]
  },
  {
   "cell_type": "markdown",
   "metadata": {},
   "source": [
    "### list comprehension"
   ]
  },
  {
   "cell_type": "code",
   "execution_count": 19,
   "metadata": {},
   "outputs": [
    {
     "name": "stdout",
     "output_type": "stream",
     "text": [
      "[2, 4, 6, 8, 10]\n",
      "[3, 4, 5]\n",
      "[10, 11, 9]\n",
      "30\n",
      "30\n"
     ]
    }
   ],
   "source": [
    "lista = [1, 2, 3, 4, 5]\n",
    "listb = [1, 2, 3, 4, 5]\n",
    "listc = [[1, 2, 3, 4], [5,6], [9,0]]\n",
    "\n",
    "new_lista = [item*2 for item in lista] #mapping\n",
    "new_listb = [item for item in listb if item>2] #filtering\n",
    "sum_list = [sum(each_list) for each_list in listc]\n",
    "master_sum = sum(sum_list)\n",
    "master_sum2 = sum([sum(each_list) for each_list in listc])\n",
    "\n",
    "\n",
    "print(new_lista)\n",
    "print(new_listb)\n",
    "print(sum_list)\n",
    "print(master_sum)\n",
    "print(master_sum2)"
   ]
  },
  {
   "cell_type": "markdown",
   "metadata": {},
   "source": [
    "# dictionaries!"
   ]
  },
  {
   "cell_type": "code",
   "execution_count": 20,
   "metadata": {},
   "outputs": [],
   "source": [
    "new_dict = {'key1':'foo', 'key2':2, 'key3':10}\n",
    "\n",
    "# for item in my_long_list:\n",
    "#     if item in new_dict.keys():\n",
    "#         append\n",
    "#     else:\n",
    "#         add new key:value to dict\n",
    "        \n",
    "#print({str(key)+'0':new_dict[key] for key in new_dict})"
   ]
  },
  {
   "cell_type": "code",
   "execution_count": 50,
   "metadata": {},
   "outputs": [
    {
     "name": "stdout",
     "output_type": "stream",
     "text": [
      "1\n",
      "2\n",
      "Fizzbuzz\n",
      "4\n",
      "Buzz\n",
      "Fizzbuzz\n",
      "7\n",
      "8\n",
      "Fizzbuzz\n",
      "Buzz\n",
      "11\n",
      "Fizzbuzz\n",
      "13\n",
      "14\n",
      "Fizzbuzz\n",
      "16\n",
      "17\n",
      "Fizzbuzz\n",
      "19\n",
      "Buzz\n",
      "Fizzbuzz\n",
      "22\n",
      "23\n",
      "Fizzbuzz\n",
      "Buzz\n",
      "26\n",
      "Fizzbuzz\n",
      "28\n",
      "29\n",
      "Fizzbuzz\n",
      "31\n",
      "32\n",
      "Fizzbuzz\n",
      "34\n",
      "Buzz\n",
      "Fizzbuzz\n",
      "37\n",
      "38\n",
      "Fizzbuzz\n",
      "Buzz\n",
      "41\n",
      "Fizzbuzz\n",
      "43\n",
      "44\n",
      "Fizzbuzz\n",
      "46\n",
      "47\n",
      "Fizzbuzz\n",
      "49\n",
      "Buzz\n",
      "Fizzbuzz\n",
      "52\n",
      "53\n",
      "Fizzbuzz\n",
      "Buzz\n",
      "56\n",
      "Fizzbuzz\n",
      "58\n",
      "59\n",
      "Fizzbuzz\n",
      "61\n",
      "62\n",
      "Fizzbuzz\n",
      "64\n",
      "Buzz\n",
      "Fizzbuzz\n",
      "67\n",
      "68\n",
      "Fizzbuzz\n",
      "Buzz\n",
      "71\n",
      "Fizzbuzz\n",
      "73\n",
      "74\n",
      "Fizzbuzz\n",
      "76\n",
      "77\n",
      "Fizzbuzz\n",
      "79\n",
      "Buzz\n",
      "Fizzbuzz\n",
      "82\n",
      "83\n",
      "Fizzbuzz\n",
      "Buzz\n",
      "86\n",
      "Fizzbuzz\n",
      "88\n",
      "89\n",
      "Fizzbuzz\n",
      "91\n",
      "92\n",
      "Fizzbuzz\n",
      "94\n",
      "Buzz\n",
      "Fizzbuzz\n",
      "97\n",
      "98\n",
      "Fizzbuzz\n",
      "Buzz\n"
     ]
    },
    {
     "data": {
      "text/plain": [
       "list"
      ]
     },
     "execution_count": 50,
     "metadata": {},
     "output_type": "execute_result"
    }
   ],
   "source": [
    "def fizzbuzz():\n",
    "    for i in range(1,101):\n",
    "        if i%3 == 0 and i%5 ==0: print(\"FizzBuzz\")\n",
    "        elif i%3 == 0: print(\"Fizz\")\n",
    "        elif i%5 == 0: print(\"Buzz\")\n",
    "        else: print(i)\n",
    "    \n",
    "temp=[print(\"Fizzbuzz\") if(num%3*5) ==0 else print(\"Fizz\") \n",
    "      if num%3==0 else print(\"Buzz\") if num%5 ==0 else print(num)\n",
    "      for num in range(1,101)]\n",
    "type(temp)"
   ]
  },
  {
   "cell_type": "code",
   "execution_count": 51,
   "metadata": {},
   "outputs": [
    {
     "data": {
      "text/plain": [
       "'doing findfive with dictionary where key is letter and values\\nare excluded words'"
      ]
     },
     "execution_count": 51,
     "metadata": {},
     "output_type": "execute_result"
    }
   ],
   "source": [
    "\"\"\"doing findfive with dictionary where key is letter and values\n",
    "are excluded words\"\"\"\n",
    "\n",
    "# for word in words:\n",
    "#     if letter in word:\n",
    "#         ndict[letter].append(word)"
   ]
  },
  {
   "cell_type": "markdown",
   "metadata": {},
   "source": [
    "raise allows you to create a more accurate or your own custom exceptions\n",
    "\n",
    "for example:\n",
    "```raise ValueError(\"function only accepts even numbers\")```\n",
    "\n",
    "You can use the above line in your code to return a ValueError and that message if the user enters an odd number.\n",
    "\n",
    "```if num <3\n",
    "    raise ValueError(\"I don't like values smaller than 3!\"```\n",
    "\n",
    "You can't define your own error types, but you can define the outputs. In the above, you need to use ValueError (you can't change it to UserError, for example) but you can add a message and use it when num<3."
   ]
  },
  {
   "cell_type": "code",
   "execution_count": 57,
   "metadata": {},
   "outputs": [
    {
     "name": "stdout",
     "output_type": "stream",
     "text": [
      "('hi', 'guys')\n"
     ]
    }
   ],
   "source": [
    "def printall(*args):\n",
    "    print(args)\n",
    "    \n",
    "x = printall(\"hi\", \"guys\")"
   ]
  },
  {
   "cell_type": "code",
   "execution_count": 197,
   "metadata": {},
   "outputs": [],
   "source": [
    "def cleaningpresidents(lines):\n",
    "    \n",
    "    dictpresidents = {}\n",
    "\n",
    "\n",
    "    for line in lines:\n",
    "        line = line.strip()\n",
    "        if len(line)==0:\n",
    "            continue\n",
    "        else:\n",
    "            newlines = line.split(',')\n",
    "            if newlines[2] == 'None':\n",
    "                newlines[2] = 2019\n",
    "            dictpresidents[newlines[0]] = (int(newlines[1]) , int(newlines[2]))\n",
    "            \n",
    "    return dictpresidents\n",
    "            \n"
   ]
  },
  {
   "cell_type": "code",
   "execution_count": 201,
   "metadata": {},
   "outputs": [],
   "source": [
    "def greatestyear(listyears):\n",
    "    count = 0\n",
    "    maxcount = 0\n",
    "    bestyear = 0\n",
    "    \n",
    "    for year in listyears:\n",
    "        count = len(listyears[year])\n",
    "        if count == maxcount:\n",
    "            bestyear.append(year)\n",
    "        if count>maxcount:\n",
    "            maxcount = count\n",
    "            bestyear = [year]\n",
    "    \n",
    "    return bestyear"
   ]
  },
  {
   "cell_type": "code",
   "execution_count": 202,
   "metadata": {},
   "outputs": [],
   "source": [
    "def leastyear(listyears):\n",
    "    \"\"\"\"\"\"\n",
    "    count = 0\n",
    "    mincount = len(listyears)\n",
    "    leastyear = 0\n",
    "    \n",
    "    for year in listyears:\n",
    "        count = len(listyears[year])\n",
    "        if count == maxcount:\n",
    "            bestyear.append(year)\n",
    "        if count<maxcount:\n",
    "            maxcount = count\n",
    "            bestyear = [year]\n",
    "    \n",
    "    return leastyear"
   ]
  },
  {
   "cell_type": "code",
   "execution_count": 205,
   "metadata": {},
   "outputs": [
    {
     "name": "stdout",
     "output_type": "stream",
     "text": [
      "The year(s) with the greatest number of presidents alive were: [1961, 1962]\n",
      "The year(s) with the least number of presidents alive were: 0\n"
     ]
    }
   ],
   "source": [
    "def presidents():\n",
    "    \"\"\"load name (key): date of birth, date of death into a dictionary\n",
    "    if dob is greater than year and dod is less than year, count+1\"\"\"\n",
    "\n",
    "    with open('../Day_5/presidents.txt') as fhandle: \n",
    "        lines = fhandle.readlines()\n",
    "    \n",
    "    presidents = cleaningpresidents(lines)\n",
    "    listyears = {}\n",
    "    for i in range(1732, 2016):\n",
    "        listyears[i] = []\n",
    "    maxcount = 0\n",
    "    bestyear = []\n",
    "            \n",
    "    for item in presidents:\n",
    "        for i in range(1732, 2016):\n",
    "            if i>=presidents[item][0] and i<presidents[item][1]:\n",
    "                \"\"\"i has to be greater than the birth year and less than the death year\"\"\"\n",
    "                listyears[i].append(item)   \n",
    "\n",
    "    print(\"The year(s) with the greatest number of presidents alive were:\", greatestyear(listyears))\n",
    "    print(\"The year(s) with the least number of presidents alive were:\", leastyear(listyears))\n",
    "\n",
    "\n",
    "#     for year in listyears:\n",
    "#         count = len(listyears[year])\n",
    "#         if count == maxcount:\n",
    "#             bestyear.append(year)\n",
    "#         if count>maxcount:\n",
    "#             maxcount = count\n",
    "#             bestyear = [year]\n",
    "        \n",
    "#     print(maxcount)\n",
    "#     print(bestyear)\n",
    "\n",
    "presidents()"
   ]
  },
  {
   "cell_type": "code",
   "execution_count": 166,
   "metadata": {},
   "outputs": [
    {
     "ename": "ValueError",
     "evalue": "invalid literal for int() with base 10: 'None'",
     "output_type": "error",
     "traceback": [
      "\u001b[0;31m---------------------------------------------------------------------------\u001b[0m",
      "\u001b[0;31mValueError\u001b[0m                                Traceback (most recent call last)",
      "\u001b[0;32m<ipython-input-166-3d89404ea73e>\u001b[0m in \u001b[0;36m<module>\u001b[0;34m\u001b[0m\n\u001b[1;32m     36\u001b[0m         \u001b[0mprint\u001b[0m\u001b[0;34m(\u001b[0m\u001b[0mbestyear\u001b[0m\u001b[0;34m)\u001b[0m\u001b[0;34m\u001b[0m\u001b[0;34m\u001b[0m\u001b[0m\n\u001b[1;32m     37\u001b[0m \u001b[0;34m\u001b[0m\u001b[0m\n\u001b[0;32m---> 38\u001b[0;31m \u001b[0mpresidents\u001b[0m\u001b[0;34m(\u001b[0m\u001b[0;34m)\u001b[0m\u001b[0;34m\u001b[0m\u001b[0;34m\u001b[0m\u001b[0m\n\u001b[0m",
      "\u001b[0;32m<ipython-input-166-3d89404ea73e>\u001b[0m in \u001b[0;36mpresidents\u001b[0;34m()\u001b[0m\n\u001b[1;32m     17\u001b[0m             \u001b[0mline\u001b[0m \u001b[0;34m=\u001b[0m \u001b[0mline\u001b[0m\u001b[0;34m.\u001b[0m\u001b[0mstrip\u001b[0m\u001b[0;34m(\u001b[0m\u001b[0;34m)\u001b[0m\u001b[0;34m\u001b[0m\u001b[0;34m\u001b[0m\u001b[0m\n\u001b[1;32m     18\u001b[0m             \u001b[0mnewlines\u001b[0m \u001b[0;34m=\u001b[0m \u001b[0mline\u001b[0m\u001b[0;34m.\u001b[0m\u001b[0msplit\u001b[0m\u001b[0;34m(\u001b[0m\u001b[0;34m','\u001b[0m\u001b[0;34m)\u001b[0m\u001b[0;34m\u001b[0m\u001b[0;34m\u001b[0m\u001b[0m\n\u001b[0;32m---> 19\u001b[0;31m             \u001b[0mpresidents\u001b[0m\u001b[0;34m[\u001b[0m\u001b[0mnewlines\u001b[0m\u001b[0;34m[\u001b[0m\u001b[0;36m0\u001b[0m\u001b[0;34m]\u001b[0m\u001b[0;34m]\u001b[0m \u001b[0;34m=\u001b[0m \u001b[0;34m(\u001b[0m\u001b[0mint\u001b[0m\u001b[0;34m(\u001b[0m\u001b[0mnewlines\u001b[0m\u001b[0;34m[\u001b[0m\u001b[0;36m1\u001b[0m\u001b[0;34m]\u001b[0m\u001b[0;34m)\u001b[0m\u001b[0;34m,\u001b[0m \u001b[0mint\u001b[0m\u001b[0;34m(\u001b[0m\u001b[0mnewlines\u001b[0m\u001b[0;34m[\u001b[0m\u001b[0;36m2\u001b[0m\u001b[0;34m]\u001b[0m\u001b[0;34m)\u001b[0m\u001b[0;34m)\u001b[0m\u001b[0;34m\u001b[0m\u001b[0;34m\u001b[0m\u001b[0m\n\u001b[0m\u001b[1;32m     20\u001b[0m \u001b[0;34m\u001b[0m\u001b[0m\n\u001b[1;32m     21\u001b[0m         \u001b[0;32mfor\u001b[0m \u001b[0mitem\u001b[0m \u001b[0;32min\u001b[0m \u001b[0mpresidents\u001b[0m\u001b[0;34m:\u001b[0m\u001b[0;34m\u001b[0m\u001b[0;34m\u001b[0m\u001b[0m\n",
      "\u001b[0;31mValueError\u001b[0m: invalid literal for int() with base 10: 'None'"
     ]
    }
   ],
   "source": [
    "def presidents():\n",
    "    \"\"\"load name (key): date of birth, date of death into a dictionary\n",
    "    if dob is greater than year and dod is less than year, count+1\"\"\"\n",
    "\n",
    "    presidents = cleanpresidents()\n",
    "    with open('../Day_5/presidents.txt') as fhandle: \n",
    "        lines = fhandle.readlines()\n",
    "        \n",
    "        \n",
    "        \n",
    "        \n",
    "        presidents = {}\n",
    "        listyears = {}\n",
    "        for i in range(1732, 2016):\n",
    "            listyears[i] = []\n",
    "        maxcount = 0\n",
    "        bestyear = []\n",
    "            \n",
    "        for item in presidents:\n",
    "            for i in range(1732, 2016):\n",
    "                if i>=presidents[item][0] and i<presidents[item][1]:\n",
    "                    \"\"\"i has to be greater than the birth year and less than the death year\"\"\"\n",
    "                    listyears[i].append(item)   \n",
    "\n",
    "        for year in listyears:\n",
    "            count = len(listyears[year])\n",
    "            if count == maxcount:\n",
    "                bestyear.append(year)\n",
    "            if count>maxcount:\n",
    "                maxcount = count\n",
    "                bestyear = [year]\n",
    "        \n",
    "        print(maxcount)\n",
    "        print(bestyear)\n",
    "\n",
    "presidents()"
   ]
  },
  {
   "cell_type": "code",
   "execution_count": null,
   "metadata": {},
   "outputs": [],
   "source": []
  }
 ],
 "metadata": {
  "kernelspec": {
   "display_name": "Python 3",
   "language": "python",
   "name": "python3"
  },
  "language_info": {
   "codemirror_mode": {
    "name": "ipython",
    "version": 3
   },
   "file_extension": ".py",
   "mimetype": "text/x-python",
   "name": "python",
   "nbconvert_exporter": "python",
   "pygments_lexer": "ipython3",
   "version": "3.7.4"
  }
 },
 "nbformat": 4,
 "nbformat_minor": 2
}
