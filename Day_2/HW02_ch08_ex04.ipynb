{
 "cells": [
  {
   "cell_type": "markdown",
   "metadata": {},
   "source": [
    "The following functions are all intended to check whether a string contains any lowercase letters, but at least some of them are wrong. For each function, describe (is the docstring) what the function actually does.\n",
    "\n",
    "You can assume that the parameter is a string.\n",
    "Do not merely paste the output as a counterexample into the documentation string, explain what is wrong."
   ]
  },
  {
   "cell_type": "code",
   "execution_count": 33,
   "metadata": {},
   "outputs": [],
   "source": [
    "def any_lowercase1(s):\n",
    "    \"\"\"This function returns True if the first letter of the word is lowercase, \n",
    "    False if the first letter of the word is uppercase.\"\"\"\n",
    "    for c in s:\n",
    "        if c.islower():\n",
    "            return True\n",
    "        else:\n",
    "            return False\n",
    "\n",
    "\n",
    "def any_lowercase2(s):\n",
    "    \"\"\"This function only checks if the string 'c' is lowercase or uppercase\"\"\"\n",
    "    \n",
    "    for c in s:\n",
    "        if 'c'.islower():\n",
    "            return 'True'\n",
    "        else:\n",
    "            return 'False'\n",
    "\n",
    "\n",
    "def any_lowercase3(s):\n",
    "    \"\"\"This function only checks if the last letter is lowercase.\n",
    "    \"\"\"\n",
    "    for c in s:\n",
    "        flag = c.islower()\n",
    "    return flag\n",
    "\n",
    "\n",
    "def any_lowercase4(s):\n",
    "    \"\"\"This works!\n",
    "    \"\"\"\n",
    "    flag = False\n",
    "    for c in s:\n",
    "        flag = flag or c.islower()\n",
    "    return flag\n",
    "\n",
    "\n",
    "def any_lowercase5(s):\n",
    "    \"\"\"If the first letter is not lowercase, this function will return False\n",
    "    even if there are lowercase letters later on\n",
    "    \"\"\"\n",
    "    for c in s:\n",
    "        if not c.islower():\n",
    "            return False\n",
    "    return True\n",
    "\n"
   ]
  },
  {
   "cell_type": "code",
   "execution_count": 34,
   "metadata": {},
   "outputs": [
    {
     "name": "stdout",
     "output_type": "stream",
     "text": [
      "False\n",
      "True\n",
      "False\n",
      "True\n",
      "False\n"
     ]
    }
   ],
   "source": [
    "def main():\n",
    "\n",
    "    # Remove print(\"Hello World!\") and for each function above that is wrong,\n",
    "    # call that function with a string for which the function returns\n",
    "    # incorrectly.\n",
    "    # ex.: any_lowercase_(\"thisstringmessesupthefunction\")\n",
    "\n",
    "    print(any_lowercase1(\"Hello\"))\n",
    "    \"\"\"This function will return False as soon as there's an uppercase letter, \n",
    "    even if there are lowercase letters following it.\n",
    "    \"\"\"\n",
    "    \n",
    "    print(any_lowercase2(\"HELLO\"))\n",
    "    \"\"\"This function will always return the string 'True' because it's testing if 'c' is lowercase\n",
    "    \"\"\"\n",
    "    \n",
    "    print(any_lowercase3(\"hellO\"))\n",
    "    \"\"\"This function only checks if the last letter is lowercase.\n",
    "    \"\"\"\n",
    "    \n",
    "    print(any_lowercase4(\"HELLOeLLO\"))\n",
    "    \"\"\"This function works!\n",
    "    \"\"\"\n",
    "\n",
    "    print(any_lowercase5(\"Hello\"))\n",
    "    \"\"\"If the first letter is not lowercase, this function will return False\n",
    "    even if there are lowercase letters later on\n",
    "    \"\"\"\n",
    "\n",
    "if __name__ == '__main__':\n",
    "    main()\n",
    "\n"
   ]
  },
  {
   "cell_type": "code",
   "execution_count": null,
   "metadata": {},
   "outputs": [],
   "source": []
  }
 ],
 "metadata": {
  "kernelspec": {
   "display_name": "Python 3",
   "language": "python",
   "name": "python3"
  },
  "language_info": {
   "codemirror_mode": {
    "name": "ipython",
    "version": 3
   },
   "file_extension": ".py",
   "mimetype": "text/x-python",
   "name": "python",
   "nbconvert_exporter": "python",
   "pygments_lexer": "ipython3",
   "version": "3.7.4"
  }
 },
 "nbformat": 4,
 "nbformat_minor": 2
}
