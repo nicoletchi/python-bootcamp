{
 "cells": [
  {
   "cell_type": "markdown",
   "metadata": {},
   "source": [
    "The built-in function eval takes a string and evaluates it using the Python interpreter. For example:\n",
    "\n",
    "`>>> eval('1 + 2 * 3')`  \n",
    "`7`  \n",
    "`>>> import math`  \n",
    "`>>> eval('math.sqrt(5)')`  \n",
    "`2.2360679774997898`  \n",
    "`>>> eval('type(math.pi)')`  \n",
    "`<type 'float'>`  \n",
    "\n",
    "Write a function called eval_loop that iteratively prompts the user, takes the resulting input and evaluates it using eval, and prints the result.\n",
    "\n",
    "It should continue until the user enters 'done', and then return the value of the last expression it evaluated.\n",
    "\n",
    "Here is an opportunity to use things like `try`, `except`, and/or `finally`.\n",
    "\n",
    "Please write a docstring for every function you write."
   ]
  },
  {
   "cell_type": "code",
   "execution_count": 7,
   "metadata": {},
   "outputs": [],
   "source": [
    "#Imports\n",
    "import math\n",
    "\n",
    "#Functions\n",
    "def eval_loop():\n",
    "    \"\"\"This function iteratively prompts the user, \n",
    "    takes the resulting input, evaluates it using eval, and prints the result\"\"\"\n",
    "    \n",
    "    \n",
    "    while True:\n",
    "        prompt = input(\"Enter a string here that can be evaluated via Python interpreter: \")\n",
    "        \n",
    "        if prompt == (\"done\"):\n",
    "            print(result)\n",
    "            break\n",
    "            \n",
    "        else:\n",
    "            try: \n",
    "                result = eval(prompt)\n",
    "                print(result)\n",
    "            except: \n",
    "                print(\"Not a valid expression.\")\n",
    "                \n",
    "    "
   ]
  },
  {
   "cell_type": "code",
   "execution_count": 8,
   "metadata": {},
   "outputs": [
    {
     "name": "stdout",
     "output_type": "stream",
     "text": [
      "Enter a string here that can be evaluated via Python interpreter: math.pi\n",
      "3.141592653589793\n",
      "Enter a string here that can be evaluated via Python interpreter: math.sqrt(25)\n",
      "5.0\n",
      "Enter a string here that can be evaluated via Python interpreter: done\n",
      "5.0\n"
     ]
    }
   ],
   "source": [
    "def main():\n",
    "    eval_loop()\n",
    "\n",
    "if __name__ == '__main__':\n",
    "    main()"
   ]
  },
  {
   "cell_type": "code",
   "execution_count": null,
   "metadata": {},
   "outputs": [],
   "source": []
  },
  {
   "cell_type": "code",
   "execution_count": null,
   "metadata": {},
   "outputs": [],
   "source": []
  }
 ],
 "metadata": {
  "kernelspec": {
   "display_name": "Python 3",
   "language": "python",
   "name": "python3"
  }
 },
 "nbformat": 4,
 "nbformat_minor": 2
}
