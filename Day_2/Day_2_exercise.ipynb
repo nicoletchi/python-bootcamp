{
 "cells": [
  {
   "cell_type": "code",
   "execution_count": 1,
   "metadata": {},
   "outputs": [
    {
     "name": "stdout",
     "output_type": "stream",
     "text": [
      "Hello World!\n"
     ]
    }
   ],
   "source": [
    "#!/usr/bin/env python3\n",
    "# D04_ex00\n",
    "\n",
    "# Create a program that does the following:\n",
    "#     - creates a random integer from 1 - 25\n",
    "#     - asks the user to guess what the number is\n",
    "#     - validates input is a number\n",
    "#     - tells the user if they guess correctly\n",
    "#         - if not: tells them too high/low\n",
    "#     - only lets the user guess five times\n",
    "#         - then ends the program\n",
    "\n",
    "# Please write a docstring for every function you write.\n",
    "\n",
    "###############################################################################\n",
    "# Imports\n",
    "\n",
    "\n",
    "# Body\n",
    "\n",
    "\n",
    "###############################################################################\n"
   ]
  },
  {
   "cell_type": "code",
   "execution_count": 1,
   "metadata": {},
   "outputs": [
    {
     "name": "stdout",
     "output_type": "stream",
     "text": [
      "Guess what the number is: 1\n",
      "Guess higher: 2\n",
      "Guess higher: 3\n",
      "Guess higher: 4\n",
      "Guess higher: 5\n",
      "Guess higher: 6\n",
      "Guess higher: 7\n",
      "you're out of guesses\n"
     ]
    }
   ],
   "source": [
    "import random\n",
    "\n",
    "def main():\n",
    "    randomNumber = random.randint(1, 25)\n",
    "    count = 0\n",
    "    \n",
    "    try:\n",
    "        x = int(input(\"Guess what the number is: \"))\n",
    "    except:\n",
    "        print(\"That's not a number\")\n",
    "    while count < 6:\n",
    "        if x == randomNumber:\n",
    "            print(\"You guessed correctly!\")\n",
    "            exit()\n",
    "        elif x > randomNumber:\n",
    "            x = int(input(\"Guess lower: \"))\n",
    "            count = count+1\n",
    "            continue\n",
    "        else:\n",
    "            x = int(input(\"Guess higher: \"))\n",
    "            count = count+1\n",
    "            continue\n",
    "    if count > 5:\n",
    "        print(\"you're out of guesses\")\n",
    "        exit()\n",
    "    \n",
    "if __name__ == '__main__':\n",
    "    main()\n"
   ]
  },
  {
   "cell_type": "code",
   "execution_count": null,
   "metadata": {},
   "outputs": [],
   "source": [
    "if __name__ == '__main__':\n",
    "    main()"
   ]
  }
 ],
 "metadata": {
  "kernelspec": {
   "display_name": "Python 3",
   "language": "python",
   "name": "python3"
  },
  "language_info": {
   "codemirror_mode": {
    "name": "ipython",
    "version": 3
   },
   "file_extension": ".py",
   "mimetype": "text/x-python",
   "name": "python",
   "nbconvert_exporter": "python",
   "pygments_lexer": "ipython3",
   "version": "3.7.4"
  }
 },
 "nbformat": 4,
 "nbformat_minor": 2
}
