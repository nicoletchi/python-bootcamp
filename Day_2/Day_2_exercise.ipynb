{
 "cells": [
  {
   "cell_type": "code",
   "execution_count": null,
   "metadata": {},
   "outputs": [],
   "source": [
    "#!/usr/bin/env python3\n",
    "# D04_ex00\n",
    "\n",
    "# Create a program that does the following:\n",
    "#     - creates a random integer from 1 - 25\n",
    "#     - asks the user to guess what the number is\n",
    "#     - validates input is a number\n",
    "#     - tells the user if they guess correctly\n",
    "#         - if not: tells them too high/low\n",
    "#     - only lets the user guess five times\n",
    "#         - then ends the program\n",
    "\n",
    "# Please write a docstring for every function you write.\n",
    "\n",
    "###############################################################################\n",
    "# Imports\n",
    "\n",
    "\n",
    "# Body\n",
    "\n",
    "\n",
    "###############################################################################\n"
   ]
  },
  {
   "cell_type": "code",
   "execution_count": 8,
   "metadata": {},
   "outputs": [],
   "source": [
    "import random\n",
    "\n",
    "def testint():\n",
    "    \"\"\"Testing if the input is an integer\"\"\"\n",
    "\n",
    "    while True:\n",
    "        try:\n",
    "            x = int(input(\"Guess what the number is: \"))\n",
    "            return x\n",
    "        except ValueError:\n",
    "            print(\"That's not a number\")"
   ]
  },
  {
   "cell_type": "code",
   "execution_count": 9,
   "metadata": {
    "scrolled": true
   },
   "outputs": [],
   "source": [
    "def compare(randomNumber, guessNumber):\n",
    "    \"\"\"Comparing the inputted number to our random integer\"\"\"\n",
    "    \n",
    "    if randomNumber == guessNumber:\n",
    "        print(\"You guessed correctly!\")\n",
    "        return True\n",
    "    elif randomNumber < guessNumber:\n",
    "        print(\"Guess lower.\")\n",
    "        return False\n",
    "    else:\n",
    "        print(\"Guess higher.\")\n",
    "        return False\n"
   ]
  },
  {
   "cell_type": "code",
   "execution_count": 11,
   "metadata": {},
   "outputs": [
    {
     "name": "stdout",
     "output_type": "stream",
     "text": [
      "Guess what the number is: 8\n",
      "Guess lower.\n",
      "Guess what the number is: 7\n",
      "Guess lower.\n",
      "Guess what the number is: 7\n",
      "Guess lower.\n",
      "Guess what the number is: 7\n",
      "Guess lower.\n",
      "Guess what the number is: 7\n",
      "Guess lower.\n",
      "You ran out of guesses...oh no.\n"
     ]
    }
   ],
   "source": [
    "def main():\n",
    "    \"\"\"Putting everything together to create the guessing game\"\"\"\n",
    "    \n",
    "    randomNumber = random.randint(1, 25)\n",
    "    count = 1\n",
    "    \n",
    "    while count < 6:\n",
    "        x = testint()\n",
    "        if compare(randomNumber, x) == True:\n",
    "            break\n",
    "        else:\n",
    "            count = count+1\n",
    "            continue\n",
    "            \n",
    "    if count > 5:\n",
    "        print(\"You ran out of guesses...oh no.\")\n",
    "\n",
    "if __name__ == '__main__':\n",
    "    main()"
   ]
  },
  {
   "cell_type": "code",
   "execution_count": null,
   "metadata": {},
   "outputs": [],
   "source": []
  },
  {
   "cell_type": "code",
   "execution_count": null,
   "metadata": {},
   "outputs": [],
   "source": []
  }
 ],
 "metadata": {
  "kernelspec": {
   "display_name": "Python 3",
   "language": "python",
   "name": "python3"
  },
  "language_info": {
   "codemirror_mode": {
    "name": "ipython",
    "version": 3
   },
   "file_extension": ".py",
   "mimetype": "text/x-python",
   "name": "python",
   "nbconvert_exporter": "python",
   "pygments_lexer": "ipython3",
   "version": "3.7.4"
  }
 },
 "nbformat": 4,
 "nbformat_minor": 2
}
