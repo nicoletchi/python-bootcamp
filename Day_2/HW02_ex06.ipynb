{
 "cells": [
  {
   "cell_type": "markdown",
   "metadata": {},
   "source": [
    "See 6.1: \"write a compare function takes two values, x and y, and returns 1 if x > y, 0 if x == y, and -1 if x < y.\"\n",
    "\n",
    "When you submit only include your final function: compare"
   ]
  },
  {
   "cell_type": "code",
   "execution_count": 1,
   "metadata": {},
   "outputs": [],
   "source": [
    "def compare(x, y):\n",
    "    if x > y:\n",
    "        return 1\n",
    "    elif x == y:\n",
    "        return 0\n",
    "    else:\n",
    "        return -1"
   ]
  },
  {
   "cell_type": "markdown",
   "metadata": {},
   "source": [
    "See 6.2: \"use incremental development to write a function called hypotenuse that returns the length of the hypotenuse of a right triangle given the lengths of the other two legs as arguments.\"\n",
    "\n",
    "When you submit only include your final function: hypotenuse\n",
    "\n",
    "Do develop incrementally. Do not share in your final push your incremental work."
   ]
  },
  {
   "cell_type": "code",
   "execution_count": 11,
   "metadata": {},
   "outputs": [
    {
     "data": {
      "text/plain": [
       "5.0"
      ]
     },
     "execution_count": 11,
     "metadata": {},
     "output_type": "execute_result"
    }
   ],
   "source": [
    "import math\n",
    "\n",
    "def hypotenuse(a, b):\n",
    "    return math.sqrt(a**2 + b**2)"
   ]
  },
  {
   "cell_type": "markdown",
   "metadata": {},
   "source": [
    "See \"Exercise 3, part 2\": \"Write a function called is_palindrome that takes a string argument and returns True if it is a palindrome and False otherwise. Remember that you can use the built-in function len to check the length of a string.\" \n",
    "\n",
    "When you submit only include your final function: is_palindrome"
   ]
  },
  {
   "cell_type": "code",
   "execution_count": 19,
   "metadata": {},
   "outputs": [],
   "source": [
    "def is_palindrome(s):\n",
    "    s=s.lower()\n",
    "    endpos = len(s)-1\n",
    "    startpos = 0\n",
    "    \n",
    "    while endpos>startpos:\n",
    "        if s[startpos] == s[endpos]:\n",
    "            endpos = endpos-1\n",
    "            startpos = startpos+1\n",
    "            continue\n",
    "        else:\n",
    "            return False\n",
    "    \n",
    "    return True"
   ]
  },
  {
   "cell_type": "markdown",
   "metadata": {},
   "source": [
    "See \"Exercise 4\": \"A number, a, is a power of b if it is divisible by b and a/b is a power of b. Write a function called is_power that takes parameters a and b and returns True if a is a power of b. Note: you will have to think about the base case.\"\n",
    "\n",
    "Note: Please use the provided definition and only plan for positive integers (whole numbers not including zero) \n",
    "\n",
    "When you submit only include your final function: is_power"
   ]
  },
  {
   "cell_type": "code",
   "execution_count": 31,
   "metadata": {},
   "outputs": [],
   "source": [
    "def is_power(a, b):\n",
    "    if b==1 or a==b:\n",
    "        return True\n",
    "    \n",
    "    else:\n",
    "        return a%b == 0 and is_power(a/b, b)"
   ]
  },
  {
   "cell_type": "code",
   "execution_count": 33,
   "metadata": {},
   "outputs": [
    {
     "name": "stdout",
     "output_type": "stream",
     "text": [
      "0\n",
      "-1\n",
      "1\n",
      "1.4142135623730951\n",
      "5.0\n",
      "12.059850745345068\n",
      "False\n",
      "True\n",
      "True\n",
      "True\n",
      "False\n",
      "True\n",
      "True\n",
      "False\n"
     ]
    }
   ],
   "source": [
    "def main():\n",
    "        \n",
    "    # # # Exercise 1\n",
    "    print(compare(1, 1))\n",
    "    print(compare(1, 2))\n",
    "    print(compare(2, 1))\n",
    "    \n",
    "    # # # Exercise 2\n",
    "    print(hypotenuse(1, 1))\n",
    "    print(hypotenuse(3, 4))\n",
    "    print(hypotenuse(1.2, 12))\n",
    "    \n",
    "    # # # Exercise 3\n",
    "    # print(is_between(1, 2, 3))\n",
    "    # print(is_between(2, 1, 3))\n",
    "    # print(is_between(3, 1, 2))\n",
    "    # print(is_between(1, 1, 2))\n",
    "    \n",
    "    # # # Exercise 6\n",
    "    print(is_palindrome(\"Python\"))\n",
    "    print(is_palindrome(\"evitative\"))\n",
    "    print(is_palindrome(\"sememes\"))\n",
    "    print(is_palindrome(\"oooooooooooo\"))\n",
    "    \n",
    "    # # # Exercise 7\n",
    "    print(is_power(28, 3))\n",
    "    print(is_power(27, 3))\n",
    "    print(is_power(248832, 12))\n",
    "    print(is_power(248844, 12))\n",
    "\n",
    "\n",
    "if __name__ == \"__main__\":\n",
    "    main()\n",
    "\n"
   ]
  },
  {
   "cell_type": "code",
   "execution_count": null,
   "metadata": {},
   "outputs": [],
   "source": []
  }
 ],
 "metadata": {
  "kernelspec": {
   "display_name": "Python 3",
   "language": "python",
   "name": "python3"
  },
  "language_info": {
   "codemirror_mode": {
    "name": "ipython",
    "version": 3
   },
   "file_extension": ".py",
   "mimetype": "text/x-python",
   "name": "python",
   "nbconvert_exporter": "python",
   "pygments_lexer": "ipython3",
   "version": "3.7.4"
  }
 },
 "nbformat": 4,
 "nbformat_minor": 2
}
