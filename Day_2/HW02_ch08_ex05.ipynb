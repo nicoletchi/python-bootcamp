{
 "cells": [
  {
   "cell_type": "markdown",
   "metadata": {},
   "source": [
    "A Caesar cypher is a weak form of encryption that involves “rotating” each letter by a fixed number of places. To rotate a letter means to shift it through the alphabet, wrapping around to the beginning if necessary, so ’A’ rotated by 3 is ’D’ and ’Z’ rotated by 1 is ’A’.\n",
    "To rotate a word, rotate each letter by the same amount. For example, “cheer” rotated by 7 is “jolly” and “melon” rotated by -10 is “cubed”. In the movie 2001: A Space Odyssey, the ship computer is called HAL, which is IBM rotated by -1.\n",
    "\n",
    "Write a function called rotate_word that takes a string and an integer as parameters, and returns a new string that contains the letters from the original string rotated by the given amount.\n",
    "\n",
    "You might want to use the built-in function ord, which converts a character to a numeric code, and chr, which converts numeric codes to characters. Letters of the alphabet are encoded in alphabetical order, so for example:\n",
    "\n",
    "`>>> ord('c') - ord('a')  \n",
    "2  `\n",
    "\n",
    "Because 'c' is the two-eth letter of the alphabet. But beware: the numeric codes for upper case letters are different.\n"
   ]
  },
  {
   "cell_type": "code",
   "execution_count": 5,
   "metadata": {},
   "outputs": [
    {
     "name": "stdout",
     "output_type": "stream",
     "text": [
      "cubed\n"
     ]
    }
   ],
   "source": [
    "def rotate_word(word, rotation):\n",
    "    newword = ''\n",
    "\n",
    "    for letter in word:\n",
    "        #if letter is lowercase\n",
    "        if ord(letter) > 96:\n",
    "            position = ord(letter) + rotation\n",
    "            if position > 122:\n",
    "                newletter = chr(position - 26)\n",
    "            elif position < 97:\n",
    "                newletter = chr(position + 26)\n",
    "            else:\n",
    "                newletter = chr(position)\n",
    "        \n",
    "        #if letter is capitalized\n",
    "        if ord(letter) < 27:\n",
    "            position = ord(letter) + rotation\n",
    "            if position > 26:\n",
    "                newletter = chr(position - 26)\n",
    "            elif position < 0:\n",
    "                newletter = chr(position + 26)\n",
    "            else:\n",
    "                newletter = chr(position)\n",
    "        \n",
    "        newword = newword + newletter\n",
    "    \n",
    "    print(newword)\n",
    "\n",
    "rotate_word('melon', -10)"
   ]
  },
  {
   "cell_type": "code",
   "execution_count": null,
   "metadata": {},
   "outputs": [],
   "source": []
  },
  {
   "cell_type": "code",
   "execution_count": null,
   "metadata": {},
   "outputs": [],
   "source": []
  }
 ],
 "metadata": {
  "kernelspec": {
   "display_name": "Python 3",
   "language": "python",
   "name": "python3"
  },
  "language_info": {
   "codemirror_mode": {
    "name": "ipython",
    "version": 3
   },
   "file_extension": ".py",
   "mimetype": "text/x-python",
   "name": "python",
   "nbconvert_exporter": "python",
   "pygments_lexer": "ipython3",
   "version": "3.7.4"
  }
 },
 "nbformat": 4,
 "nbformat_minor": 2
}
