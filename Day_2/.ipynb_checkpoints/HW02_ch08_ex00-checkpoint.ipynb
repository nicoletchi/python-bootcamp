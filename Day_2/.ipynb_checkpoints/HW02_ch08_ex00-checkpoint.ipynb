{
 "cells": [
  {
   "cell_type": "markdown",
   "metadata": {},
   "source": [
    "The following program counts the number of times the letter 'a' appears in a string:\n",
    "\n",
    "`word = 'banana'  \n",
    "count = 0  \n",
    "for letter in word:  \n",
    "if letter == 'a':  \n",
    "count = count + 1  \n",
    "print(count)  `\n",
    "\n",
    "Encapsulate this code in a function named \"count\", and generalize it so that it accepts the string and the letter as arguments.\n",
    "\n",
    "Please write a docstring for every function you write."
   ]
  },
  {
   "cell_type": "code",
   "execution_count": 8,
   "metadata": {},
   "outputs": [
    {
     "name": "stdout",
     "output_type": "stream",
     "text": [
      "2\n"
     ]
    }
   ],
   "source": [
    "def count(l, s):\n",
    "    count = 0\n",
    "    \n",
    "    for letter in s:\n",
    "        if letter == l:\n",
    "            count = count + 1\n",
    "    print(count)\n",
    "\n",
    "count('n', 'banana')"
   ]
  },
  {
   "cell_type": "code",
   "execution_count": null,
   "metadata": {},
   "outputs": [],
   "source": []
  }
 ],
 "metadata": {
  "kernelspec": {
   "display_name": "Python 3",
   "language": "python",
   "name": "python3"
  },
  "language_info": {
   "codemirror_mode": {
    "name": "ipython",
    "version": 3
   },
   "file_extension": ".py",
   "mimetype": "text/x-python",
   "name": "python",
   "nbconvert_exporter": "python",
   "pygments_lexer": "ipython3",
   "version": "3.7.4"
  }
 },
 "nbformat": 4,
 "nbformat_minor": 2
}
