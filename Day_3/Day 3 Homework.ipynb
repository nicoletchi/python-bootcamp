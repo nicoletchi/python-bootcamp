{
 "cells": [
  {
   "cell_type": "markdown",
   "metadata": {},
   "source": [
    "# logics\n",
    "\n",
    "### Function even_odd\n",
    "This function takes one integer from user (only non-word numerals), determines if it's even or odd, prints determination, and returns None. "
   ]
  },
  {
   "cell_type": "code",
   "execution_count": 13,
   "metadata": {},
   "outputs": [
    {
     "name": "stdout",
     "output_type": "stream",
     "text": [
      "odd\n",
      "even\n"
     ]
    }
   ],
   "source": [
    "def even_odd(i):\n",
    "    try:\n",
    "        if int(i)%2 == 0:\n",
    "            print(\"even\")\n",
    "            return None\n",
    "        else:\n",
    "            print(\"odd\")\n",
    "            return None\n",
    "    except:\n",
    "        print(\"This function only takes integers\")\n",
    "        \n",
    "even_odd(3)\n",
    "even_odd(22)"
   ]
  },
  {
   "cell_type": "markdown",
   "metadata": {},
   "source": [
    "### Function ten_by_ten\n",
    "\n",
    "This function prints integers 1 through 100 sequentially in a ten by ten grid"
   ]
  },
  {
   "cell_type": "code",
   "execution_count": 18,
   "metadata": {},
   "outputs": [
    {
     "name": "stdout",
     "output_type": "stream",
     "text": [
      " 1  2  3  4  5  6  7  8  9 10 \n",
      "\n",
      "11 12 13 14 15 16 17 18 19 20 \n",
      "\n",
      "21 22 23 24 25 26 27 28 29 30 \n",
      "\n",
      "31 32 33 34 35 36 37 38 39 40 \n",
      "\n",
      "41 42 43 44 45 46 47 48 49 50 \n",
      "\n",
      "51 52 53 54 55 56 57 58 59 60 \n",
      "\n",
      "61 62 63 64 65 66 67 68 69 70 \n",
      "\n",
      "71 72 73 74 75 76 77 78 79 80 \n",
      "\n",
      "81 82 83 84 85 86 87 88 89 90 \n",
      "\n",
      "91 92 93 94 95 96 97 98 99 100 \n",
      "\n"
     ]
    }
   ],
   "source": [
    "def ten_by_ten():\n",
    "    for i in range(1, 101):\n",
    "        if i%10 == 0:\n",
    "            print(i, \"\\n\")\n",
    "        elif i<10:\n",
    "            print(\"\", i, end=\" \") #to line up shorter numbers\n",
    "        else:\n",
    "            print(i, end=\" \")\n",
    "\n",
    "ten_by_ten()\n",
    "        "
   ]
  },
  {
   "cell_type": "markdown",
   "metadata": {},
   "source": [
    "### Function find_average\n",
    "\n",
    "Takes numeric input (non-word numerals) from the user, one number at a time. Once the user types 'done', returns the average."
   ]
  },
  {
   "cell_type": "code",
   "execution_count": 6,
   "metadata": {},
   "outputs": [
    {
     "name": "stdout",
     "output_type": "stream",
     "text": [
      "Enter a number: 2\n",
      "Enter a number: 3\n",
      "Enter a number: 4\n",
      "Enter a number: done\n",
      "3.0\n"
     ]
    }
   ],
   "source": [
    "def find_average():\n",
    "    alist = []\n",
    "    done = False\n",
    "    \n",
    "    while True:\n",
    "        try:\n",
    "            userinput = input(\"Enter a number: \")\n",
    "            n = int(userinput) #check if it's an integer\n",
    "            alist.append(n)\n",
    "        \n",
    "        except:\n",
    "            if userinput == 'done':\n",
    "                total = 0\n",
    "                count = 0\n",
    "                \n",
    "                for i in alist:\n",
    "                    total = total+i\n",
    "                    count = count+1\n",
    "                return total/count\n",
    "            \n",
    "            else:\n",
    "                print(\"Not a number\")\n",
    "\n",
    "print(find_average())"
   ]
  },
  {
   "cell_type": "markdown",
   "metadata": {},
   "source": [
    "### testing even_odd, ten_by_ten, and find_average"
   ]
  },
  {
   "cell_type": "code",
   "execution_count": 19,
   "metadata": {},
   "outputs": [
    {
     "name": "stdout",
     "output_type": "stream",
     "text": [
      "odd\n",
      "even\n",
      " 1  2  3  4  5  6  7  8  9 10 \n",
      "\n",
      "11 12 13 14 15 16 17 18 19 20 \n",
      "\n",
      "21 22 23 24 25 26 27 28 29 30 \n",
      "\n",
      "31 32 33 34 35 36 37 38 39 40 \n",
      "\n",
      "41 42 43 44 45 46 47 48 49 50 \n",
      "\n",
      "51 52 53 54 55 56 57 58 59 60 \n",
      "\n",
      "61 62 63 64 65 66 67 68 69 70 \n",
      "\n",
      "71 72 73 74 75 76 77 78 79 80 \n",
      "\n",
      "81 82 83 84 85 86 87 88 89 90 \n",
      "\n",
      "91 92 93 94 95 96 97 98 99 100 \n",
      "\n",
      "Enter a number: 2\n",
      "Enter a number: 3\n",
      "Enter a number: 4\n",
      "Enter a number: done\n",
      "3.0\n"
     ]
    }
   ],
   "source": [
    "def main():\n",
    "    even_odd(347)\n",
    "    even_odd(52)\n",
    "    ten_by_ten()\n",
    "    print(find_average())\n",
    "\n",
    "\n",
    "if __name__ == '__main__':\n",
    "    main()"
   ]
  }
 ],
 "metadata": {
  "kernelspec": {
   "display_name": "Python 3",
   "language": "python",
   "name": "python3"
  },
  "language_info": {
   "codemirror_mode": {
    "name": "ipython",
    "version": 3
   },
   "file_extension": ".py",
   "mimetype": "text/x-python",
   "name": "python",
   "nbconvert_exporter": "python",
   "pygments_lexer": "ipython3",
   "version": "3.7.4"
  }
 },
 "nbformat": 4,
 "nbformat_minor": 2
}
