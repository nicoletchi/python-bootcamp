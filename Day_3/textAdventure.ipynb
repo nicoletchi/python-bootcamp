{
 "cells": [
  {
   "cell_type": "code",
   "execution_count": 1,
   "metadata": {},
   "outputs": [],
   "source": [
    "# Imports\n",
    "from sys import exit"
   ]
  },
  {
   "cell_type": "markdown",
   "metadata": {},
   "source": [
    "# Function: infinite_stairway_room\n",
    "\n",
    "This function traps people in an infinite loop until they go back to their previous room \n",
    "Questions: Why use count as an assignment?"
   ]
  },
  {
   "cell_type": "code",
   "execution_count": 2,
   "metadata": {},
   "outputs": [],
   "source": [
    "def infinite_stairway_room(count=0):\n",
    "    print(\"You walk through the door to see a dimly lit hallway.\")\n",
    "    print(\"At the end of the hallway is a\", count * 'long', 'staircase'\n",
    "          \" going towards some light\")\n",
    "    next = input(\"> \")\n",
    "\n",
    "    # infinite stairs option\n",
    "    if next == \"take stairs\":\n",
    "        print('You take the stairs')\n",
    "        if (count > 0):\n",
    "            print(\"but you're not happy about it\")\n",
    "        infinite_stairway_room(count + 1)\n",
    "    # go back to previous room\n",
    "    elif next == \"go back\":\n",
    "        cthulhu_room()\n",
    "    else:\n",
    "        print('You take a deep, calming breath.')\n",
    "        infinite_stairway_room(count + 1)"
   ]
  },
  {
   "cell_type": "markdown",
   "metadata": {},
   "source": [
    "# Function: gold_room\n",
    "\n",
    "This function allows the winner to win if they take less than 50 gold, or makes the winner lose if they take more."
   ]
  },
  {
   "cell_type": "code",
   "execution_count": 3,
   "metadata": {},
   "outputs": [],
   "source": [
    "def gold_room():\n",
    "    print(\"This room is full of gold.  How much do you take?\")\n",
    "\n",
    "    next = input(\"> \")\n",
    "    if \"0\" in next or \"1\" in next:\n",
    "        how_much = int(next)\n",
    "    else:\n",
    "        dead(\"Man, learn to type a number.\")\n",
    "\n",
    "    if how_much < 50:\n",
    "        print(\"Nice, you're not greedy, you win!\")\n",
    "        exit(0)\n",
    "    else:\n",
    "        dead(\"You greedy goose! A trapdoor opens and you fall into a pit of rattlesnakes.\")"
   ]
  },
  {
   "cell_type": "markdown",
   "metadata": {},
   "source": [
    "# Function bear_room\n",
    "\n",
    "This function kills the player if they take honey, moves the bear if they taunt the bear, and allows the user to open the door and go into the gold room after they move the bear. "
   ]
  },
  {
   "cell_type": "code",
   "execution_count": 4,
   "metadata": {},
   "outputs": [],
   "source": [
    "def bear_room():\n",
    "    print(\"There is a bear here.\")\n",
    "    print(\"The bear has a bunch of honey.\")\n",
    "    print(\"The bear is in front of another door.\")\n",
    "    print(\"How are you going to move the bear?\")\n",
    "    bear_moved = False\n",
    "\n",
    "    while True:\n",
    "        next = input(\"> \")\n",
    "\n",
    "        if next in [\"take honey\",\"take\",\"honey\"]:\n",
    "            dead(\"The bear looks at you then laughs at you.\")\n",
    "        elif next in [\"taunt bear\",\"taunt\",\"bear\"] and not bear_moved:\n",
    "            print(\"The bear has moved from the door. You can go through it\"\n",
    "                  \"now.\")\n",
    "            bear_moved = True\n",
    "        elif next in [\"taunt bear\",\"taunt\",\"bear\"] and bear_moved:\n",
    "            dead(\"The bear gets angry and chases you.\")\n",
    "        elif next in [\"open door\", \"open\", \"door\"] and bear_moved:\n",
    "            gold_room()\n",
    "        else:\n",
    "            print(\"I got no idea what that means.\")"
   ]
  },
  {
   "cell_type": "markdown",
   "metadata": {},
   "source": [
    "# Function cthulhu room\n",
    "Users can either flee and go to the infinite stairway room, make friends and get eaten, or go back to the main room."
   ]
  },
  {
   "cell_type": "code",
   "execution_count": 5,
   "metadata": {},
   "outputs": [],
   "source": [
    "def cthulhu_room():\n",
    "    print(\"Here you see the great evil Cthulhu.\")\n",
    "    print(\"He, it, whatever stares at you and you freeze.\")\n",
    "    print(\"Do you flee for your life or try to make friends?\")\n",
    "\n",
    "    next = input(\"> \")\n",
    "\n",
    "    if \"flee\" in next:\n",
    "        infinite_stairway_room()\n",
    "    elif \"friends\" in next:\n",
    "        dead(\"Well that was tasty!\")\n",
    "    elif \"go back\" in next:\n",
    "        main()\n",
    "    else:\n",
    "        cthulhu_room()"
   ]
  },
  {
   "cell_type": "markdown",
   "metadata": {},
   "source": [
    "# function back_room"
   ]
  },
  {
   "cell_type": "code",
   "execution_count": 1,
   "metadata": {},
   "outputs": [
    {
     "name": "stdout",
     "output_type": "stream",
     "text": [
      "You find yourself in a coffee shop with piles and piles of pastries.\n",
      "You are suddenly so, so hungry!\n",
      "An old lady suddenly appears, and asks if you can buy her food.\n",
      "However, you only have enough to buy one thing. Your stomach grumbles.\n",
      "Do you buy the old lady food or buy yourself a pastry?\n",
      "> share\n",
      "The old lady says: Sharing is caring :) She gives you the keys to a beachhouse.\n"
     ]
    }
   ],
   "source": [
    "def dead(why):\n",
    "    print(\"{}\\n Game over!\".format(why))\n",
    "    exit(0)\n",
    "\n",
    "def back_room():\n",
    "    print(\"You find yourself in a coffee shop with piles and piles of pastries.\")\n",
    "    print(\"You are suddenly so, so hungry!\")\n",
    "    print(\"An old lady suddenly appears, and asks if you can buy her food.\")\n",
    "    print(\"However, you only have enough to buy one thing. Your stomach grumbles.\")\n",
    "    print(\"Do you buy the old lady food or buy yourself a pastry?\")\n",
    "\n",
    "    next = input(\"> \")\n",
    "    \n",
    "    if next in ['buy her food', 'old lady', 'buy old lady food']:\n",
    "        print(\"The old lady says: Wow! What a nice person!\",\n",
    "              \"She gives you the key to a treasure chest.\")\n",
    "        exit(0)\n",
    "    \n",
    "    if next in ['buy yourself a pastry', 'buy yourself food', 'yourself']:\n",
    "        dead(\"The old lady says: Wow, how selfish! She turns you into Cthulhu, \"+\n",
    "              \"cursing you to spend the rest of your days in this maze \"+\n",
    "              \"until the next unsuspecting traveler makes the same mistake.\")\n",
    "        \n",
    "    if next == 'share':\n",
    "        print(\"The old lady says: Sharing is caring :)\",\n",
    "        \"She gives you the keys to a beachhouse.\")\n",
    "        exit(0)\n",
    "\n",
    "back_room()"
   ]
  },
  {
   "cell_type": "markdown",
   "metadata": {},
   "source": [
    "# function dead(why)\n",
    "This function prints the reason why the user died, and then exits the game"
   ]
  },
  {
   "cell_type": "code",
   "execution_count": 10,
   "metadata": {},
   "outputs": [],
   "source": [
    "def dead(why):\n",
    "    print(\"{}\\n Game over!\".format(why))\n",
    "    exit(0)"
   ]
  },
  {
   "cell_type": "code",
   "execution_count": null,
   "metadata": {},
   "outputs": [],
   "source": [
    "def main():\n",
    "    # START the TextAdventure game\n",
    "    print(\"You are in a dark room.\")\n",
    "    print(\"There is a door to your right and left.\")\n",
    "    print(\"Which one do you take?\")\n",
    "\n",
    "    next = input(\"> \")\n",
    "\n",
    "    if next == \"left\":\n",
    "        bear_room()\n",
    "    elif next == \"right\":\n",
    "        cthulhu_room()\n",
    "    elif next == \"trapdoor\":\n",
    "        back_room()\n",
    "    else:\n",
    "        dead(\"You stumble around the room until you starve.\")"
   ]
  },
  {
   "cell_type": "code",
   "execution_count": null,
   "metadata": {},
   "outputs": [],
   "source": [
    "if __name__ == '__main__':\n",
    "    main()"
   ]
  },
  {
   "cell_type": "code",
   "execution_count": null,
   "metadata": {},
   "outputs": [],
   "source": []
  },
  {
   "cell_type": "code",
   "execution_count": null,
   "metadata": {},
   "outputs": [],
   "source": []
  }
 ],
 "metadata": {
  "kernelspec": {
   "display_name": "Python 3",
   "language": "python",
   "name": "python3"
  },
  "language_info": {
   "codemirror_mode": {
    "name": "ipython",
    "version": 3
   },
   "file_extension": ".py",
   "mimetype": "text/x-python",
   "name": "python",
   "nbconvert_exporter": "python",
   "pygments_lexer": "ipython3",
   "version": "3.7.4"
  }
 },
 "nbformat": 4,
 "nbformat_minor": 2
}
