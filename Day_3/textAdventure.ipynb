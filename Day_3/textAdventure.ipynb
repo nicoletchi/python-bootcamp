{
 "cells": [
  {
   "cell_type": "code",
   "execution_count": 1,
   "metadata": {},
   "outputs": [],
   "source": [
    "# Imports\n",
    "from sys import exit"
   ]
  },
  {
   "cell_type": "markdown",
   "metadata": {},
   "source": [
    "# Function: infinite_stairway_room\n",
    "\n",
    "This function traps people in an infinite loop until they go back to their previous room \n",
    "Questions: Why use count as an assignment?"
   ]
  },
  {
   "cell_type": "code",
   "execution_count": 2,
   "metadata": {},
   "outputs": [],
   "source": [
    "def infinite_stairway_room(count=0):\n",
    "    print(\"You walk through the door to see a dimly lit hallway.\")\n",
    "    print(\"At the end of the hallway is a\", count * 'long', 'staircase'\n",
    "          \" going towards some light\")\n",
    "    next = input(\"> \")\n",
    "\n",
    "    # infinite stairs option\n",
    "    if next == \"take stairs\":\n",
    "        print('You take the stairs')\n",
    "        if (count > 0):\n",
    "            print(\"but you're not happy about it\")\n",
    "        infinite_stairway_room(count + 1)\n",
    "    # go back to previous room\n",
    "    elif next == \"go back\":\n",
    "        cthulhu_room()\n",
    "    else:\n",
    "        print('You take a deep, calming breath.')\n",
    "        infinite_stairway_room(count + 1)"
   ]
  },
  {
   "cell_type": "markdown",
   "metadata": {},
   "source": [
    "# Function: gold_room\n",
    "\n",
    "This function allows the winner to win if they take less than 50 gold, or makes the winner lose if they take more."
   ]
  },
  {
   "cell_type": "code",
   "execution_count": 3,
   "metadata": {},
   "outputs": [],
   "source": [
    "def gold_room():\n",
    "    print(\"This room is full of gold.  How much do you take?\")\n",
    "\n",
    "    next = input(\"> \")\n",
    "    if \"0\" in next or \"1\" in next:\n",
    "        how_much = int(next)\n",
    "    else:\n",
    "        dead(\"Man, learn to type a number.\")\n",
    "\n",
    "    if how_much < 50:\n",
    "        print(\"Nice, you're not greedy, you win!\")\n",
    "        exit(0)\n",
    "    else:\n",
    "        dead(\"You greedy goose! A trapdoor opens and you fall into a pit of rattlesnakes.\")"
   ]
  },
  {
   "cell_type": "markdown",
   "metadata": {},
   "source": [
    "# Function bear_room\n",
    "\n",
    "This function kills the player if they take honey, moves the bear if they taunt the bear, and allows the user to open the door and go into the gold room after they move the bear. "
   ]
  },
  {
   "cell_type": "code",
   "execution_count": 4,
   "metadata": {},
   "outputs": [],
   "source": [
    "def bear_room():\n",
    "    print(\"There is a bear here.\")\n",
    "    print(\"The bear has a bunch of honey.\")\n",
    "    print(\"The bear is in front of another door.\")\n",
    "    print(\"How are you going to move the bear?\")\n",
    "    bear_moved = False\n",
    "\n",
    "    while True:\n",
    "        next = input(\"> \")\n",
    "\n",
    "        if next in [\"take honey\",\"take\",\"honey\"]:\n",
    "            dead(\"The bear looks at you then laughs at you.\")\n",
    "        elif next in [\"taunt bear\",\"taunt\",\"bear\"] and not bear_moved:\n",
    "            print(\"The bear has moved from the door. You can go through it\"\n",
    "                  \"now.\")\n",
    "            bear_moved = True\n",
    "        elif next in [\"taunt bear\",\"taunt\",\"bear\"] and bear_moved:\n",
    "            dead(\"The bear gets angry and chases you.\")\n",
    "        elif next in [\"open door\", \"open\", \"door\"] and bear_moved:\n",
    "            gold_room()\n",
    "        else:\n",
    "            print(\"I got no idea what that means.\")"
   ]
  },
  {
   "cell_type": "markdown",
   "metadata": {},
   "source": [
    "# Function cthulhu room\n",
    "Users can either flee and go to the infinite stairway room, make friends and get eaten, or go back to the main room."
   ]
  },
  {
   "cell_type": "code",
   "execution_count": 5,
   "metadata": {},
   "outputs": [],
   "source": [
    "def cthulhu_room():\n",
    "    print(\"Here you see the great evil Cthulhu.\")\n",
    "    print(\"He, it, whatever stares at you and you freeze.\")\n",
    "    print(\"Do you flee for your life or try to make friends?\")\n",
    "\n",
    "    next = input(\"> \")\n",
    "\n",
    "    if \"flee\" in next:\n",
    "        infinite_stairway_room()\n",
    "    elif \"friends\" in next:\n",
    "        dead(\"Well that was tasty!\")\n",
    "    elif \"go back\" in next:\n",
    "        main()\n",
    "    else:\n",
    "        cthulhu_room()"
   ]
  },
  {
   "cell_type": "markdown",
   "metadata": {},
   "source": [
    "# function back_room"
   ]
  },
  {
   "cell_type": "code",
   "execution_count": null,
   "metadata": {},
   "outputs": [],
   "source": [
    "def back_room():\n",
    "    print(\"hooray\")"
   ]
  },
  {
   "cell_type": "markdown",
   "metadata": {},
   "source": [
    "# function dead(why)\n",
    "This function prints the reason why the user died, and then exits the game"
   ]
  },
  {
   "cell_type": "code",
   "execution_count": 6,
   "metadata": {},
   "outputs": [],
   "source": [
    "def dead(why):\n",
    "    print(\"{}\\n Game over!\".format(why))\n",
    "    exit(0)"
   ]
  },
  {
   "cell_type": "code",
   "execution_count": 7,
   "metadata": {},
   "outputs": [],
   "source": [
    "def main():\n",
    "    # START the TextAdventure game\n",
    "    print(\"You are in a dark room.\")\n",
    "    print(\"There is a door to your right and left.\")\n",
    "    print(\"Which one do you take?\")\n",
    "\n",
    "    next = input(\"> \")\n",
    "\n",
    "    if next == \"left\":\n",
    "        bear_room()\n",
    "    elif next == \"right\":\n",
    "        cthulhu_room()\n",
    "    elif next == \"trapdoor\":\n",
    "        back_room()\n",
    "    else:\n",
    "        dead(\"You stumble around the room until you starve.\")"
   ]
  },
  {
   "cell_type": "code",
   "execution_count": 8,
   "metadata": {},
   "outputs": [
    {
     "name": "stdout",
     "output_type": "stream",
     "text": [
      "You are in a dark room.\n",
      "There is a door to your right and left.\n",
      "Which one do you take?\n",
      "> right\n",
      "Here you see the great evil Cthulhu.\n",
      "He, it, whatever stares at you and you freeze.\n",
      "Do you flee for your life or try to make friends?\n",
      "> flee\n",
      "You walk through the door to see a dimly lit hallway.\n",
      "At the end of the hallway is a  staircase going towards some light\n",
      "> take stairs\n",
      "You take the stairs\n",
      "You walk through the door to see a dimly lit hallway.\n",
      "At the end of the hallway is a long staircase going towards some light\n",
      "> go back\n",
      "Here you see the great evil Cthulhu.\n",
      "He, it, whatever stares at you and you freeze.\n",
      "Do you flee for your life or try to make friends?\n",
      "> go back\n",
      "You are in a dark room.\n",
      "There is a door to your right and left.\n",
      "Which one do you take?\n",
      "> left\n",
      "There is a bear here.\n",
      "The bear has a bunch of honey.\n",
      "The bear is in front of another door.\n",
      "How are you going to move the bear?\n",
      "> taunt bear\n",
      "The bear has moved from the door. You can go through itnow.\n",
      "> open door\n",
      "This room is full of gold.  How much do you take?\n",
      "> 50\n",
      "You greedy goose! A trapdoor opens and you fall into a pit of rattlesnakes.\n",
      " Game over!\n"
     ]
    },
    {
     "ename": "SystemExit",
     "evalue": "0",
     "output_type": "error",
     "traceback": [
      "An exception has occurred, use %tb to see the full traceback.\n",
      "\u001b[0;31mSystemExit\u001b[0m\u001b[0;31m:\u001b[0m 0\n"
     ]
    },
    {
     "name": "stderr",
     "output_type": "stream",
     "text": [
      "/Users/nicolechi/Documents/python-bootcamp/bootcamp_env/lib/python3.7/site-packages/IPython/core/interactiveshell.py:3334: UserWarning: To exit: use 'exit', 'quit', or Ctrl-D.\n",
      "  warn(\"To exit: use 'exit', 'quit', or Ctrl-D.\", stacklevel=1)\n"
     ]
    }
   ],
   "source": [
    "if __name__ == '__main__':\n",
    "    main()"
   ]
  },
  {
   "cell_type": "code",
   "execution_count": null,
   "metadata": {},
   "outputs": [],
   "source": []
  },
  {
   "cell_type": "code",
   "execution_count": null,
   "metadata": {},
   "outputs": [],
   "source": []
  }
 ],
 "metadata": {
  "kernelspec": {
   "display_name": "Python 3",
   "language": "python",
   "name": "python3"
  },
  "language_info": {
   "codemirror_mode": {
    "name": "ipython",
    "version": 3
   },
   "file_extension": ".py",
   "mimetype": "text/x-python",
   "name": "python",
   "nbconvert_exporter": "python",
   "pygments_lexer": "ipython3",
   "version": "3.7.4"
  }
 },
 "nbformat": 4,
 "nbformat_minor": 2
}
