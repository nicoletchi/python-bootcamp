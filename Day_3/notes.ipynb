{
 "cells": [
  {
   "cell_type": "code",
   "execution_count": null,
   "metadata": {},
   "outputs": [],
   "source": [
    "'wahoo'[::-1]"
   ]
  },
  {
   "cell_type": "code",
   "execution_count": null,
   "metadata": {},
   "outputs": [],
   "source": [
    "man find()"
   ]
  },
  {
   "cell_type": "markdown",
   "metadata": {},
   "source": [
    "`os.chdir('/Users/nicolechi/Documents/python-bootcamp/python-bootcamp')`  \n",
    "in python3 files, this will get you into a folder\n",
    "\n",
    "\n",
    "`os.listdir()  `  \n",
    "`os.listdir('/Users/nicolechi/Documents/python-bootcamp/python-bootcamp')  `\n",
    "in python3 files, this will list all the elements in that folder"
   ]
  },
  {
   "cell_type": "code",
   "execution_count": 1,
   "metadata": {},
   "outputs": [
    {
     "name": "stdout",
     "output_type": "stream",
     "text": [
      "aa\n",
      "\n",
      "aah\n",
      "\n",
      "aahed\n"
     ]
    }
   ],
   "source": [
    "import os\n",
    "file_handle = open('words.txt', 'r')\n",
    "\n",
    "#'w' for write, 'a' for append\n",
    "#this makes words.txt readable for the python file that this code is in\n",
    "#the python file and the file you want to open need to be in the same folder\n",
    "\n",
    "print(file_handle.readline()) \n",
    "print(file_handle.readline()) #keeps track of what line you're on so repeating it will get you to line 2, etc\n",
    "print(file_handle.readline(5))\n",
    "\n",
    "\n",
    "#for line in file_handle.readlines(): #reads all lines individually\n",
    "#    print(line)\n",
    "\n"
   ]
  },
  {
   "cell_type": "code",
   "execution_count": 6,
   "metadata": {},
   "outputs": [
    {
     "data": {
      "text/plain": [
       "14"
      ]
     },
     "execution_count": 6,
     "metadata": {},
     "output_type": "execute_result"
    }
   ],
   "source": [
    "#file_handle = open('words.txt', 'w')\n",
    "#file_handle.write(\"This is a file I'm making now.\") <--this will completely overwrite the entire file\n",
    "#file_handle.close()"
   ]
  },
  {
   "cell_type": "code",
   "execution_count": null,
   "metadata": {},
   "outputs": [],
   "source": []
  }
 ],
 "metadata": {
  "kernelspec": {
   "display_name": "Python 3",
   "language": "python",
   "name": "python3"
  },
  "language_info": {
   "codemirror_mode": {
    "name": "ipython",
    "version": 3
   },
   "file_extension": ".py",
   "mimetype": "text/x-python",
   "name": "python",
   "nbconvert_exporter": "python",
   "pygments_lexer": "ipython3",
   "version": "3.7.4"
  }
 },
 "nbformat": 4,
 "nbformat_minor": 2
}
