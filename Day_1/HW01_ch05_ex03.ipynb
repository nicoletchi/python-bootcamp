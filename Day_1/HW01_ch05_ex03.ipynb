{
 "cells": [
  {
   "cell_type": "markdown",
   "metadata": {},
   "source": [
    "If you are given three sticks, you may or may not be able to arrange them in a triangle. For example, if one of the sticks is 12 inches long and the other two are one inch long, it is clear that you will not be able to get the short sticks to meet in the middle. For any three lengths, there is a simple test to see if it is possible to form a triangle:\n",
    "\n",
    "If any of the three lengths is greater than the sum of the other two, then you cannot form a triangle. Otherwise, you can. (If the sum of two lengths equals the third, they form what is called a \"degenerate\" triangle.)\n",
    "\n",
    "(1) Write a function named `is_triangle` that takes three integers as arguments, and that prints either \"Yes\" or \"No,\" depending on whether you can or cannot form a triangle from sticks with the given lengths.\n",
    "\n",
    "(2) Write a function that prompts the user to input three stick lengths, converts them to integers, and uses `is_triangle` to check whether sticks with the given lengths can form a triangle."
   ]
  },
  {
   "cell_type": "code",
   "execution_count": 3,
   "metadata": {},
   "outputs": [],
   "source": [
    "def is_triangle(a, b, c):\n",
    "    combo1 = (a+b)>c\n",
    "    combo2 = (b+c)>a\n",
    "    combo3 = (a+c)>b\n",
    "\n",
    "    if combo1==True and combo2==True and combo3==True:\n",
    "        print(\"Yes, it is a triangle\")\n",
    "    else:\n",
    "        print(\"No, it is not a triangle\")\n",
    "\n",
    "def create_triangle():\n",
    "    print(\"Enter 3 stick lengths and I will tell you if the given lengths can form a triangle.\")\n",
    "    while True:\n",
    "        try:\n",
    "            a = int(input(\"Stick 1: \"))\n",
    "            b = int(input(\"Stick 2: \"))\n",
    "            c = int(input(\"Stick 3: \"))\n",
    "            break\n",
    "        except:\n",
    "            print(\"That's not an integer. Start over!\")\n",
    "        \n",
    "    is_triangle(a, b, c)"
   ]
  },
  {
   "cell_type": "code",
   "execution_count": 4,
   "metadata": {},
   "outputs": [
    {
     "name": "stdout",
     "output_type": "stream",
     "text": [
      "Enter 3 stick lengths and I will tell you if the given lengths can form a triangle.\n",
      "Stick 1: 5\n",
      "Stick 2: 1\n",
      "Stick 3: 2\n",
      "No, it is not a triangle\n"
     ]
    }
   ],
   "source": [
    "create_triangle()"
   ]
  },
  {
   "cell_type": "code",
   "execution_count": null,
   "metadata": {},
   "outputs": [],
   "source": []
  }
 ],
 "metadata": {
  "kernelspec": {
   "display_name": "Python 3",
   "language": "python",
   "name": "python3"
  },
  "language_info": {
   "codemirror_mode": {
    "name": "ipython",
    "version": 3
   },
   "file_extension": ".py",
   "mimetype": "text/x-python",
   "name": "python",
   "nbconvert_exporter": "python",
   "pygments_lexer": "ipython3",
   "version": "3.7.4"
  }
 },
 "nbformat": 4,
 "nbformat_minor": 2
}
