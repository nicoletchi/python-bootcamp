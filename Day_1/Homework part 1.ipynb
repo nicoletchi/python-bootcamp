{
 "cells": [
  {
   "cell_type": "markdown",
   "metadata": {},
   "source": [
    "# HW02_ch03_ex01\n",
    "Python provides a built-in function called len that returns the length of a string, so the value of len('monty') is 5.\n",
    "\n",
    "Write a function named `right_justify` that takes a string named `s` as a parameter and prints the string with enough leading spaces so that the last letter of the string is in column 70 of the display."
   ]
  },
  {
   "cell_type": "code",
   "execution_count": 1,
   "metadata": {},
   "outputs": [
    {
     "name": "stdout",
     "output_type": "stream",
     "text": [
      "Hello World!\n",
      "                                                      Python\n",
      "                                                   YOUR_NAME\n"
     ]
    }
   ],
   "source": [
    "def right_justify(s):\n",
    "    numberSpaces = 60 - len(s)\n",
    "    print(\" \"*numberSpaces + s)\n",
    "\n",
    "def main():\n",
    "    \"\"\"Call your functions within this function.\"\"\"\n",
    "    print(\"Hello World!\")\n",
    "    right_justify(\"Python\")\n",
    "    right_justify(\"YOUR_NAME\")\n",
    "\n",
    "\n",
    "if __name__ == \"__main__\":\n",
    "    main()"
   ]
  },
  {
   "cell_type": "code",
   "execution_count": null,
   "metadata": {},
   "outputs": [],
   "source": []
  }
 ],
 "metadata": {
  "kernelspec": {
   "display_name": "Python 3",
   "language": "python",
   "name": "python3"
  },
  "language_info": {
   "codemirror_mode": {
    "name": "ipython",
    "version": 3
   },
   "file_extension": ".py",
   "mimetype": "text/x-python",
   "name": "python",
   "nbconvert_exporter": "python",
   "pygments_lexer": "ipython3",
   "version": "3.7.4"
  }
 },
 "nbformat": 4,
 "nbformat_minor": 2
}
