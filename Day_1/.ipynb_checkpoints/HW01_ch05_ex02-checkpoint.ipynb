{
 "cells": [
  {
   "cell_type": "markdown",
   "metadata": {},
   "source": [
    "Fermat's Last Theorem says that there are no positive integers a, b, and c\n",
    "such that a^n + b^n = c^n for any values of n greater than 2.\n",
    "\n",
    "(1) Write a function named `check_fermat` that takes four parameters-a, b, c and n-and that checks to see if Fermat's theorem holds. If n is greater than 2 and it turns out to be true that a^n + b^n = c^n the program should print, \"Holy smokes, Fermat was wrong!\"\"\n",
    "\n",
    "Otherwise the program should print, \"No, that doesn't work.\"\n",
    "\n",
    "(2) Write a function named `check_fermat_ints` that prompts the user to input values for a, b, c and n, converts them to integers, and uses check_fermat to check whether they violate Fermat's theorem.\n",
    "\n"
   ]
  },
  {
   "cell_type": "code",
   "execution_count": 1,
   "metadata": {},
   "outputs": [],
   "source": [
    "def check_fermat(a, b, c, n):\n",
    "    doesitwork = (a**n + b**n == c**n)\n",
    "    \n",
    "    if n>2 and doesitwork == True:\n",
    "        print(\"Holy smokes, Fermat was wrong!\")\n",
    "        \n",
    "    else:\n",
    "        print(\"No, that doesn't work.\")\n",
    "\n",
    "def check_fermat_ints():\n",
    "    \n",
    "    while True:\n",
    "        try:\n",
    "            a = int(input(\"Enter a value for a: \"))\n",
    "            b = int(input(\"Enter a value for b: \"))\n",
    "            c = int(input(\"Enter a value for c: \"))\n",
    "            n = int(input(\"Enter a value for n: \"))\n",
    "            \n",
    "            if n <= 2:\n",
    "                print(\"You need n to be greater than 2. Try again.\")\n",
    "                continue\n",
    "            \n",
    "            else:\n",
    "                break\n",
    "\n",
    "        except:\n",
    "            print(\"Not a valid integer. Start over!\")\n",
    "    \n",
    "    check_fermat(a, b, c, n)\n"
   ]
  },
  {
   "cell_type": "code",
   "execution_count": 2,
   "metadata": {},
   "outputs": [
    {
     "name": "stdout",
     "output_type": "stream",
     "text": [
      "Enter a value for a: 1\n",
      "Enter a value for b: 2\n",
      "Enter a value for c: 3\n",
      "Enter a value for n: 4\n",
      "No, that doesn't work.\n",
      "No, that doesn't work.\n"
     ]
    }
   ],
   "source": [
    "check_fermat_ints()"
   ]
  }
 ],
 "metadata": {
  "kernelspec": {
   "display_name": "Python 3",
   "language": "python",
   "name": "python3"
  },
  "language_info": {
   "codemirror_mode": {
    "name": "ipython",
    "version": 3
   },
   "file_extension": ".py",
   "mimetype": "text/x-python",
   "name": "python",
   "nbconvert_exporter": "python",
   "pygments_lexer": "ipython3",
   "version": "3.7.4"
  }
 },
 "nbformat": 4,
 "nbformat_minor": 2
}
